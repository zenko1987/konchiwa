{
 "cells": [
  {
   "cell_type": "code",
   "execution_count": 15,
   "metadata": {},
   "outputs": [
    {
     "name": "stdout",
     "output_type": "stream",
     "text": [
      "History of Religions | Vol 58, No 3\n",
      "Why Does Zeus Care about Burnt Thighbones from Sheep? Defining the Divine and Structuring the World through Animal Sacrifice in Ancient Greece\n",
      "A Threefold Heresy: Reassessing Jewish, Christian, and Islamic Animal Sacrifice in Late Antiquity\n",
      "“Finding” the Eucharist in Central Australia: Intichiuma Ceremonies and the Study of Ritual Sacrifice as a Sacrament of Communion\n",
      "From Sovereignty to Solidarity: Some Transformations in the Politics of Sacrifice from the Reformation to Robertson Smith\n"
     ]
    }
   ],
   "source": [
    "import requests\n",
    "from bs4 import BeautifulSoup\n",
    "import lxml\n",
    "\n",
    "def paper_titles(site):\n",
    "    #シカゴ　Historyo of religions\n",
    "    url = site \n",
    "    HP = requests.get(url)\n",
    "    soup = BeautifulSoup(HP.text, \"html.parser\")\n",
    "    papers = soup.find_all(class_=\"hlFld-Title\")\n",
    "\n",
    "    #journalの名前\n",
    "    print(soup.find(\"title\").getText())\n",
    "\n",
    "    #論文の名前\n",
    "    del papers[0:2]\n",
    "    for paper in papers:\n",
    "        if \"<i>\" not in str(paper):\n",
    "            print(paper.getText())\n",
    "                \n",
    "paper_titles(\"https://www.journals.uchicago.edu/toc/hr/current\")"
   ]
  },
  {
   "cell_type": "code",
   "execution_count": 99,
   "metadata": {},
   "outputs": [
    {
     "name": "stdout",
     "output_type": "stream",
     "text": [
      "                            Arresting Alternatives                        \n",
      "                            The (Ancient Greek) Subject Supposed to Believe                        \n"
     ]
    }
   ],
   "source": [
    "import requests\n",
    "from bs4 import BeautifulSoup\n",
    "import lxml\n",
    "\n",
    "def paper_titles(site):\n",
    "    #Brill numen\n",
    "    url = site \n",
    "    headers = {\n",
    "        \"User-Agent\": \"Mozilla/5.0 (X11; Ubuntu; Linux x86_64; rv:47.0) Gecko/20100101 Firefox/47.0\",\n",
    "        }\n",
    "    HP = requests.get(url, headers=headers)\n",
    "    soup = BeautifulSoup(HP.text, 'lxml')\n",
    "    papers = soup.find_all(class_=\"title text-headline mb-3\")\n",
    "    \n",
    "    #journalの名前\n",
    "    issue = soup.find('h1').string\n",
    "    title = soup.find(class_=\"c-Button--link c-Button--primary\").string\n",
    "    \n",
    "    nulists = soup.find_all(class_=\"c-Typography c-Typography--title c-Button--link c-Button--primary\")\n",
    "    for nulist in nulists:\n",
    "        nu_paper_titles = nulist.string\n",
    "        if nu_paper_titles is None:\n",
    "            break\n",
    "        print(nu_paper_titles.replace(\"\\n\",\"\"))\n",
    "\n",
    "                \n",
    "paper_titles(\"https://brill.com/abstract/journals/nu/66/1/nu.66.issue-1.xml\")"
   ]
  },
  {
   "cell_type": "code",
   "execution_count": 4,
   "metadata": {},
   "outputs": [
    {
     "ename": "NameError",
     "evalue": "name 'BeautifulSoup' is not defined",
     "output_type": "error",
     "traceback": [
      "\u001b[1;31m---------------------------------------------------------------------------\u001b[0m",
      "\u001b[1;31mNameError\u001b[0m                                 Traceback (most recent call last)",
      "\u001b[1;32m<ipython-input-4-a97e2d2151a7>\u001b[0m in \u001b[0;36m<module>\u001b[1;34m\u001b[0m\n\u001b[0;32m     30\u001b[0m \u001b[1;33m\u001b[0m\u001b[0m\n\u001b[0;32m     31\u001b[0m \u001b[1;33m\u001b[0m\u001b[0m\n\u001b[1;32m---> 32\u001b[1;33m \u001b[0mpaper_titles\u001b[0m\u001b[1;33m(\u001b[0m\u001b[1;34m\"https://brill.com/abstract/journals/nu/66/1/nu.66.issue-1.xml\"\u001b[0m\u001b[1;33m)\u001b[0m\u001b[1;33m\u001b[0m\u001b[1;33m\u001b[0m\u001b[0m\n\u001b[0m",
      "\u001b[1;32m<ipython-input-4-a97e2d2151a7>\u001b[0m in \u001b[0;36mpaper_titles\u001b[1;34m(site)\u001b[0m\n\u001b[0;32m      7\u001b[0m         }\n\u001b[0;32m      8\u001b[0m     \u001b[0mHP\u001b[0m \u001b[1;33m=\u001b[0m \u001b[0mrequests\u001b[0m\u001b[1;33m.\u001b[0m\u001b[0mget\u001b[0m\u001b[1;33m(\u001b[0m\u001b[0murl\u001b[0m\u001b[1;33m,\u001b[0m \u001b[0mheaders\u001b[0m\u001b[1;33m=\u001b[0m\u001b[0mheaders\u001b[0m\u001b[1;33m)\u001b[0m\u001b[1;33m\u001b[0m\u001b[1;33m\u001b[0m\u001b[0m\n\u001b[1;32m----> 9\u001b[1;33m     \u001b[0msoup\u001b[0m \u001b[1;33m=\u001b[0m \u001b[0mBeautifulSoup\u001b[0m\u001b[1;33m(\u001b[0m\u001b[0mHP\u001b[0m\u001b[1;33m.\u001b[0m\u001b[0mtext\u001b[0m\u001b[1;33m,\u001b[0m \u001b[1;34m'lxml'\u001b[0m\u001b[1;33m)\u001b[0m\u001b[1;33m\u001b[0m\u001b[1;33m\u001b[0m\u001b[0m\n\u001b[0m\u001b[0;32m     10\u001b[0m     \u001b[0mpapers\u001b[0m \u001b[1;33m=\u001b[0m \u001b[0msoup\u001b[0m\u001b[1;33m.\u001b[0m\u001b[0mfind_all\u001b[0m\u001b[1;33m(\u001b[0m\u001b[0mclass_\u001b[0m\u001b[1;33m=\u001b[0m\u001b[1;34m\"title text-headline mb-3\"\u001b[0m\u001b[1;33m)\u001b[0m\u001b[1;33m\u001b[0m\u001b[1;33m\u001b[0m\u001b[0m\n\u001b[0;32m     11\u001b[0m \u001b[1;33m\u001b[0m\u001b[0m\n",
      "\u001b[1;31mNameError\u001b[0m: name 'BeautifulSoup' is not defined"
     ]
    }
   ],
   "source": [
    "import requests\n",
    "def paper_titles(site):\n",
    "    #Brill numen\n",
    "    url = site \n",
    "    headers = {\n",
    "        \"User-Agent\": \"Mozilla/5.0 (X11; Ubuntu; Linux x86_64; rv:47.0) Gecko/20100101 Firefox/47.0\",\n",
    "        }\n",
    "    HP = requests.get(url, headers=headers)\n",
    "    soup = BeautifulSoup(HP.text, 'lxml')\n",
    "    papers = soup.find_all(class_=\"title text-headline mb-3\")\n",
    "    \n",
    "    #journalの名前\n",
    "    issue = soup.find('h1').string\n",
    "    title = soup.find(class_=\"c-Button--link c-Button--primary\").string\n",
    "    list = []\n",
    "    nulists = soup.find_all(class_=\"c-Typography c-Typography--title c-Button--link c-Button--primary\")\n",
    "    for nulist in nulists:\n",
    "        nu_paper_titles = nulist.string\n",
    "        if nu_paper_titles is None:\n",
    "            break\n",
    "        print(nu_paper_titles.replace(\"\\n\",'').strip(\" \"))\n",
    "        \n",
    "    st = soup.find_all(re.complie<'class_=\"subTitle\"><\"em\">')\n",
    "    for st_list in st:\n",
    "        paper_sub = st_list.getText()\n",
    "        if \"em\" not in paper_sub:\n",
    "            break\n",
    "    print(paper_sub)\n",
    "    \n",
    "\n",
    "                \n",
    "paper_titles(\"https://brill.com/abstract/journals/nu/66/1/nu.66.issue-1.xml\")"
   ]
  },
  {
   "cell_type": "code",
   "execution_count": 229,
   "metadata": {},
   "outputs": [
    {
     "name": "stdout",
     "output_type": "stream",
     "text": [
      "[]\n"
     ]
    }
   ],
   "source": [
    "import requests\n",
    "from bs4 import BeautifulSoup\n",
    "import lxml\n",
    "import re\n",
    "\n",
    "def paper_titles(site):\n",
    "    #Brill numen\n",
    "    url = site \n",
    "    headers = {\n",
    "        \"User-Agent\": \"Mozilla/5.0 (X11; Ubuntu; Linux x86_64; rv:47.0) Gecko/20100101 Firefox/47.0\",\n",
    "        }\n",
    "    HP = requests.get(url, headers=headers)\n",
    "    soup = BeautifulSoup(HP.text, 'lxml')\n",
    "    papers = soup.find_all(class_=\"title text-headline mb-3\")\n",
    "    \n",
    "    #journalの名前\n",
    "    title = soup.find(class_=\"c-Button--link c-Button--primary\").string\n",
    "    nulists = soup.find_all(re.compile('<div class=\"subTitle\"><em>'))\n",
    "    print(nulists)\n",
    "\n",
    "paper_titles(\"https://brill.com/abstract/journals/nu/66/1/nu.66.issue-1.xml\")"
   ]
  },
  {
   "cell_type": "code",
   "execution_count": null,
   "metadata": {},
   "outputs": [],
   "source": []
  },
  {
   "cell_type": "code",
   "execution_count": null,
   "metadata": {},
   "outputs": [],
   "source": []
  },
  {
   "cell_type": "code",
   "execution_count": null,
   "metadata": {},
   "outputs": [],
   "source": []
  }
 ],
 "metadata": {
  "kernelspec": {
   "display_name": "Python 3",
   "language": "python",
   "name": "python3"
  },
  "language_info": {
   "codemirror_mode": {
    "name": "ipython",
    "version": 3
   },
   "file_extension": ".py",
   "mimetype": "text/x-python",
   "name": "python",
   "nbconvert_exporter": "python",
   "pygments_lexer": "ipython3",
   "version": "3.7.3"
  }
 },
 "nbformat": 4,
 "nbformat_minor": 2
}
