{
 "cells": [
  {
   "cell_type": "code",
   "execution_count": 10,
   "metadata": {},
   "outputs": [
    {
     "name": "stdout",
     "output_type": "stream",
     "text": [
      "Annual Review of Anthropology\n",
      "['Special Themes in Volume 47', 'Sustaining Conversations', 'Others’ Words, Others’ Voices: The Making of a Linguistic Anthropologist', 'Development and Disciplinary Complicity: Contract Archaeology in South America Under the Critical Gaze', 'Ethics of Archaeology', 'An Emerging Archaeology of the Nazi Era', 'Bayesian Statistics in Archaeology', 'Looting, the Antiquities Trade, and Competing Valuations of the Past', 'Developments in American Archaeology: Fifty Years of the National Historic Preservation Act', 'Ethics in Human Biology: A Historical Perspective on Present Challenges', 'The Bioarchaeology of Health Crisis: Infectious Disease in the Past', 'Crop Foraging, Crop Losses, and Crop Raiding', 'Emerging and Enduring Issues in Primate Conservation Genetics', 'Effects of Environmental Stress on Primate Populations', 'Ethics of Primate Fieldwork: Toward an Ethically Engaged Primatology', 'Hunter-Gatherers and Human Evolution: New Light on Old Debates', 'Female Power in Primates and the Phenomenon of Female Dominance', 'Food and Language: Production, Consumption, and Circulation of Meaning and Value', 'Language of Kin Relations and Relationlessness', 'The Ethics and Aesthetics of Care', 'The Language of Evangelism: Christian Cultures of Circulation Beyond the Missionary Prologue', 'Children as Interactional Brokers of Care', 'Political Parody and the Politics of Ambivalence', 'Word for Word: Verbatim as Political Technologies', 'Literature and Reading', 'The Anthropology of Mining: The Social and Environmental Impacts of Resource Extraction in the Mineral Age', 'Science/Art/Culture Through an Oceanic Lens', 'Consumerism', 'Police and Policing', 'Industrial Meat Production', 'Interspecies Relations and Agrarian Worlds', 'Hybrid Peace: Ethnographies of War', 'The Gender of the War on Drugs', 'Precarity, Precariousness, and Vulnerability', 'The Anthropology of Ethics and Morality']\n",
      "[]\n"
     ]
    },
    {
     "ename": "AttributeError",
     "evalue": "'NoneType' object has no attribute 'get'",
     "output_type": "error",
     "traceback": [
      "\u001b[1;31m---------------------------------------------------------------------------\u001b[0m",
      "\u001b[1;31mAttributeError\u001b[0m                            Traceback (most recent call last)",
      "\u001b[1;32m<ipython-input-10-721e8b5061b4>\u001b[0m in \u001b[0;36m<module>\u001b[1;34m\u001b[0m\n\u001b[0;32m     40\u001b[0m \u001b[1;31m#表紙画像\u001b[0m\u001b[1;33m\u001b[0m\u001b[1;33m\u001b[0m\u001b[1;33m\u001b[0m\u001b[0m\n\u001b[0;32m     41\u001b[0m \u001b[0mimage\u001b[0m \u001b[1;33m=\u001b[0m \u001b[0msoup\u001b[0m\u001b[1;33m.\u001b[0m\u001b[0mfind\u001b[0m\u001b[1;33m(\u001b[0m\u001b[1;34m'img'\u001b[0m\u001b[1;33m,\u001b[0m \u001b[0malt\u001b[0m\u001b[1;33m=\u001b[0m\u001b[1;34m\"Publication Cover\"\u001b[0m\u001b[1;33m)\u001b[0m\u001b[1;33m\u001b[0m\u001b[1;33m\u001b[0m\u001b[0m\n\u001b[1;32m---> 42\u001b[1;33m \u001b[0mimg_url\u001b[0m \u001b[1;33m=\u001b[0m \u001b[0mimage\u001b[0m\u001b[1;33m.\u001b[0m\u001b[0mget\u001b[0m\u001b[1;33m(\u001b[0m\u001b[1;34m\"src\"\u001b[0m\u001b[1;33m)\u001b[0m\u001b[1;33m\u001b[0m\u001b[1;33m\u001b[0m\u001b[0m\n\u001b[0m\u001b[0;32m     43\u001b[0m \u001b[0mimg\u001b[0m \u001b[1;33m=\u001b[0m \u001b[1;34m\"https://www.journals.uchicago.edu\"\u001b[0m \u001b[1;33m+\u001b[0m \u001b[0mimg_url\u001b[0m\u001b[1;33m\u001b[0m\u001b[1;33m\u001b[0m\u001b[0m\n\u001b[0;32m     44\u001b[0m \u001b[0mprint\u001b[0m\u001b[1;33m(\u001b[0m\u001b[0mimg\u001b[0m\u001b[1;33m)\u001b[0m\u001b[1;33m\u001b[0m\u001b[1;33m\u001b[0m\u001b[0m\n",
      "\u001b[1;31mAttributeError\u001b[0m: 'NoneType' object has no attribute 'get'"
     ]
    }
   ],
   "source": [
    "import requests\n",
    "from bs4 import BeautifulSoup\n",
    "import lxml\n",
    "import re\n",
    "\n",
    "\n",
    "ID = 'HR'\n",
    "j_url = \"https://www.annualreviews.org/toc/anthro/current\" \n",
    "headers = {\n",
    "        \"User-Agent\": \"Mozilla/5.0 (X11; Ubuntu; Linux x86_64; rv:47.0) Gecko/20100101 Firefox/47.0\",\n",
    "        }\n",
    "HP = requests.get(j_url, headers=headers)\n",
    "HP_text = HP.text.split('About This Journal')\n",
    "soup = BeautifulSoup(HP_text[0], \"html.parser\")\n",
    "\n",
    "#雑誌のタイトル\n",
    "title = \"Annual Review of Anthropology\"\n",
    "#return (title)\n",
    "print(title)\n",
    "\n",
    "#論文のタイトル\n",
    "articles = []\n",
    "papers = soup.find_all(class_=\"hlFld-Title\")\n",
    "for paper in papers:\n",
    "    paper_titles = paper.getText()\n",
    "    articles.append(paper_titles)\n",
    "#return (list)\n",
    "print(articles)\n",
    "\n",
    "#論文のURL    \n",
    "urls = []\n",
    "aa = soup.find_all('a', class_=\"ref nowrap\")\n",
    "for a in aa:\n",
    "    b = a.get('href')\n",
    "    urls_list = \"https://www.annualreviews.org\" + b\n",
    "    urls.append(urls_list)\n",
    "\n",
    "print(urls)\n",
    "\n",
    "#表紙画像\n",
    "img = \"data:image/gif;base64,R0lGODlhaACYAPcAAP8pEPcxGP9KKfcpEN4hCPc5Ie9KKe9CIcZSMe8xEOchCOdCIcZKKe85GOdSMfc5GN4xGO8xGNZSMd5KKc5CKd5CIe9SMdZSKf9SMecpELVKKedKKf8pGK1KKaVCIcZSOZRKKd5SMcZaMbVKMcZCId4pELVCIf9aOc45IaVaOcYxGL1SMaVSMZxKMf9KIf9KMa1jOf9aMd5aOcZjQrVaOb1aOedaOd45Kb1KKcYpEKVKKa1SMdZjOe9SKXtSMbVSObUxGL1aMcZjOe9KMb0xGNZKIb1CIa1aMf8hENY5IaVSKdZCIa1rQq05GOdSKbVaMaVKMaU5IbVaQow5GJRaOb05IbVzStZaMb1KIdZCGK1CIdYhCJRSMZxjOaU5GHNaOaVjQu9aOf9CGIQpENYYAJxSOZRjQu9jQr1SOYwYEL1CKVJSKVpSMXs5Ie9jOf9jOWs5IXNKKXM5GL1KMXMYCJwhEGtCKVJCGNZjQoxSKTE5GK0xEIRaOVpKKd5jOVJzSlJKIYxSMcZzUkJSIUpjMUpaOYQYCFJrQoRKKWtSMYxjOTEIANYYCEoQCL1jQoxaKWtSKcZzSq1CGO9rQtZrQvdrOedjQko5IXNjQv8hCGtKIcZrQmNrQlpaOTlKIbUpEJxrQr1rQoRCKUI5GIxKMaV7UilaOYRCGK1KIXNSMSEIAIwhEK0pEKVzSkIICJwpGJwpCFpjMechEIRrQmsxGFJKKb1zSnM5Id5rMVJKOYxrOUJaKUJKMVoQCGN7QntjMUJCKYR7SoxzQlJCKZQhEIw5KWNKIVIpEN5rOa1CKYwpGEJCGIwYCGtrOWMQCEIxEPdzOWNCENZzSmsYCK1aKa0hEHNzUmtKKXspGMZ7UmNzSjlKMfd7St4hEDkpEClKMSkxGHNjOWtaMWuMWmNaQkIIAHs5KRhaMWNjMWOEQhAAABhKKVpaMa17SlJaIZSEUhg5Id6cY1oYEBgAAGMhCLUxEISMWiExEEpzQv9CKf8xGP9CIf85GAAAAP85IQAAACH5BAAAAAAALAAAAABoAJgAAAj/APsJHEiwoMGDCBMqXMiwocMAAfb5i7Alnz9/+vjx0ydR4kV/G/Xp+3hxoz+PJEtiBIBRpMsHIDGSdKlyn8mP/PbtG5kxpsyLIy2eTOlPoD+IR7fwG8AhZcie/IYSVQn06EiJI6XG1PhRXwCaT0UCDeuS51CsI8n+1CfwQYIE/gps2fq1p798UX3OtAo0QFSxILmCTJuxrMiNiDWmHbwYatS/hVXmRYlSoNcAAwIQwKixLs2tijd+hfwRpd6WLQsfjqwxpGDOh0MGHpuVZMeLOg8bPTpAgdLPKXkSNl3aYm2gsWWXxck1MmPDQxGb5do6tUyUbPuBhBiBwM6MfwMD/75o8fVdoU7FAm7dmaNaxiWPc0YOteXfvE4vGhXwNcFmkjedZBOAU90XHXhZqVcVfLDpA0BheaX1mnJBRRjVgMQV1U8+L2CkAAF48eTaYyVtpJNQ+EkUHm4CXvUYa48192KM0ZWoGnUnWaTiWDFJZFQ+O/n301cyEfZZaD+dlNeIXUnm03hhXUTkguwteJdMeEmV1ZK7XZQBiOKBhxNxKC0Z4FSDKQYVYAmmKWZr0FFnF1A7dgSkUAIFgFEAX6Y2IHv8CFCkSvJRdRd2USKHU5h6STedSA8uVyBniGl4VAAJZFBCljKilqBNPdXmUYQx9VQmctQ95RphlNbm2mz4sf+ZqKWZ6ePfn+GtJlY++QjQ669aRahrTratFeqWsUE4G2pL5jdqgCoKVMBIAXRH6H3NXYSNPGOMkcYYq6wyqlk4xWbliFCCCgCJy555IKrNwmrpUQl8iGJGxIFHBzPV1GEIHc44QyV5pbGIH6wX4iZbahLuWN1qIN021U4YWQbRWwRISNWS+kRAhwvE9GITP4YUoPCF7FpXIoGpCctynKXBeWNeQK7WVgAFBPDhs4rt1YAhArjSj6D7MKNnkk7mWCObMiV2GGoNmkTjyvEO9hGe2l00gKYCOFpwYBDAkgMdjbgiaMkss5egmvRVit/b0oXZbMI39czRvfr1AxFmEXT/g5e7OB4ARB3lqFLH0GksupdOP5HGqtsaB2jeacVeGZ9YjEt7mSwlEFWpT/vMswordAjQDz/EcKUiYdURy6KSHG0FHKCEjrePUHVitNPBJOW594cRI225RIvoQ4ch6vQiQBo9n7YjgVKnOflp0J3Fe8ES3xaVZfTuDHWJMUZQhwDTpLEP4nYJNuepgb3dFdugnTZjsYxTbJtg0u7dJ7Sv6wRBHRhQxSIwsIg6EKE6BZMZgU5FohQ9K3aFup7nXNWV3WCGAFsYkFYWxY8HpAECKiDCPoigik+sDio60WD7HgMkAOUEK5dTHAIjxi4JbjBveoLIlzxiKsWBZBGLaETZ/6bRCPOxylDwUs+cWLSm3GxwMuDDHuhYpiHMQIQA3nkbeDbyIIYN4C0ZgEvCWriXXNkwTMdJEObG0jzc3I5xK0uJxSKwtRLkrowJG5MKWwOq+pRri6oBjk4+l0LQoQQ9ADrObURiQc2ASSumAdRO8oGBnPAqS2PxCFa4aKQHrWslLIEQZETknC0B4JPCOZUiG6mAzlmpXIMBgAVqoA8DzAIDAFCECJjgAH6A4gOO+AE/0ACFqJxhXYKYwV8MMAMRzCAfIZCGNJBhAAQYYB8fkEAlelAJbrjhAPk4gwXCIAAHOAExeLAEAPbxhnG6wIcAutkVOwfFyDxtJ2hYhwD0Qf8PUwhADgCAhSleMIUG6IAU/DACFAAgA1PsAwA+2EFrANCHHBgBE/7gBT/isAQ9TIAfneCHHiKgDFro4xJJAEc+RhGBNrziIq0AAioioY97bAEOHvgaehiZtY0QYFOWbJQb7xIEUXzAHxPQQRcu4I8k4AAUKtCHCUYAgAqgQB8I8IEIAMACBkxGDjSowR4AcAcYQIADROiAAKqQiUT4QwVxWIEB9KEJf3jjBg6QCAVq4aBD5OMYFsjBAl5TyBzlSSQDIEAGWri+lAAgDI/wQhwAgAMkfGENAAACElpwCAD8oAMcWIIK8kEFbIRDHx5QAQAmIBJEAKEPLLHDDnqFhFz/mIAlX+AHBWgxhnW+wg4ksEMQRqIBOIyEDQ3wgjm08MmOqAg/RuHHFb0zRfEARQD2OAA//iCEYLgAAH/Yxy/cAIBC6KMC2ogBGADQiiIAgBAx4MMTJoEJAOSDHQaIwjsMwAl+MMEDAEjFNU4CD3944BYusEYB+HEOJHhCBSHpwwsE8Ax/XEIAC46amEAiEH6YLLEZEJTiJAaSEgSgARBIcQNE8oASrBgrJQDCtFDwgH2UIAc5UMEeSqCPBtQjCQEwwQIYcIEmROUAB/BHcrPAgBVcQQcjQYE/JEASCLBgCgAogA8oIMqtKEkjefLHAxw5VHgi8Cn+iNQnqzKiV9kN/zYBmhOkQlkVUPEDAE35jP0K6dwOjxnEIu5fj1bIkX36w1eXlAgZB/WRdSLhlFaDoI0Iw5InISh78YkVsvhxWMwoAAICgCOa/mIBIejDCbfchw/mQAoqtAILIgAFAGhAgwnQgAo2OEkNulDJeAhCCAIAwAe6kA8AaIASFLPADyqpDwxsItQyEIAYoLHPUbEkMROaSoeBooDFUkVjzLHFN3YChz/oYwxaAIIcgGCCJtxCH4EYgz/Mu4sDMEEFmcjFPuLwCQhcAg8gAMAtO+CDjVzAGPqIgwHC8AV9AAICdiiDPtgQgUa17msp7LN2LtNt40RnbmkWQApuIQF9TKANLP+4wbS2nI8lfOECtaiCPnjRAQDrQSRtQEA1SCADOAzjIlNQQha8ABI7JGEfOTiGHQZgSQAMwwoliNceG6giOJ5Pb5fB4qA08gDJMVQZIAiEPjQAgFw0XB9mqAAA1CCKTMihChxIBAV2AIBtpBkOVQBCMQZrXtSC4AZ034ceFqCPLPThDhkBQQf2AQs94Eh3fyqNR3QklU73JgP1q0nB8mENF+gDH5QIhgASwAl9uOAQMwAAE/jAjy+A4ADm1YYEQDCDE3xhH19AgEh0wIQXiAO1bXhDKqpghnz4IAcmKIM/2OBVEbThb0oi03Nt2EhGyCImQrnkUPXB9DtnoAFf+Ur/A1CsDwhU4AEHKMACzumADQCABCPgAD9kwGWMoMALCdDHBxhgAtWyIgVLcGcdEApVIBEeAAOGNn1bsiyD1jvasTeKxSuSV0hyoh71lEeyk2aqIRFd1EcXcUpP8yB/gQTqQYIZUmbRh4JVxG2YdxYO0ySvMymPRznEwjswFBwY1xHTsxiGokJ58xGaAQHQRxS8ImpE8Tzuo2jOZR+GMicpwxqV0z5TgTsCUhk9pRkhlhKDZIPxU2eFdSChUR0qFDvtgzvPQzWzYRpv5BPmkRFG4RVbkwF0coOaNGIvdBaw4oQE0yIItDt7YR9pgRbjcT/qU4c0ZBleoQ/ddoK2EUkk/zJ9PQNH7uMPYiAg1vUy/hADAvACZ7APgoIBLhADmXgCHVKDjFOEwHIiV/KGX6EACcCIXnaEVJSGpaIwNwRJWYEVIFAFLZAEULAH/jAFFQAHKTAGU9AC/IAAIMBLAIAAG7ACAgBOWbAyWRFmnpYAiIQwjbM4JxJqGTc1iwIqNTIyeHgRFAADrBAGOrACCwAGFqAFo9AEomAF+mADICAHCOACJJAEGgABJtAAPcARX9hhHNeCX8YilBFq5VgjG1OFz0OBaqKDIMES4ugE+pADDVACB7BPFnAAFMAPSwABBkABBnAABrAAEBACIJlC6HF1X/EAiYWNUghLf7QcobRhM//hSWriICJocVWHG4VhGsJhKpV2GA91MKbBinzyipMSHwIwAgiAC7gADTbgADYwCQ4QAlZpAz3QAzGAAV+JAWKJAS9wAhhwAmg5YRIogagRaibxRnkkkKADJPVzOzXjOdF1RTKZH7ByA82gCb8QDZoACdFwB8ZwB3dQC53ABpCADmsACLGwDGuwBp6wDIMwCJ4wCO5ACIeQDofgC7FACIWwC4TwB+PgC5f5B5xADqPABp6wBoSwBpcACIDwDHcADJ0ADJwwCp2wBn3QDJCQCowJmSR2EkqpABGQD1ehSeAGgo/GATx5bY7iEndWShwAAEgwAAMAAAHAASR4GGIQAd3/xg8NkA8LkH4m2QAWYAEVMAEVYFU5lgNFgAIMgAAUwAAUIAIM0AEwsWiWAocE8Io2aIR0MiYGEyNBKR7NYyZwRJ2xZJRDSROnAoIO4iBtthFtMRK9gY2ixkeU4ZB0GYuuokk++CKwoxH1ExV34jAoeqBioTpKchYtZBEWlFgQwDgpwhkpZBIOCp1qpBo1aTULszI78SDPtRjlIVRmgpQk6hMdBhExaYYxKpH+4AY9cAJuoImVUAniJAAx8AZeepZvgJYnIACbiAFZYaaJZpck0TVVkjJmJhWmOEMxYRR6og8EEAEf2jo5UY8/UAJlkAQskAIqAAJRQAor4AGvYKgo/9AEp+ABGjAFUoADKyAJ+kAJMsAAB0AFeaAEQSAJKyACH/AIEmAFIbAumKNB5CIZvJOjBPqkmMEITCmjZTISKuABAiAEDjAC2SQBGCAFQoADH5ANOsADBWADMnABEtACLIADQuAPUpACCOAACaABEZACUtAC+cAFeVAELJB6r9OiOBoeEIkjGUcUAmER05KnuYGBNMJ9IhEBOdMxdFQtEQABhecPELAAG3BV/lAEWdBjJnkF/BACB9ADZ9AAF3AADrAEFQABERNqhWKJ7QqnkJQ9sKoZr0guvLOcFvGx2XgsTwMahYGq+nCduiJ/jBMqjJh5UnE7LuQY2bEaskpGO/+iSLmofczyiKbRQnaSceyTMHUyNxiihSQiYimCO12SWHoqRUNFMyeaI6FiIAcjGEgiP8YxiDMpGDsqhWqIcYiIGWQQAYH2Pjq4EwbAAhiACgKAAXcBBhKwDxPmiRgAsi30iLb4GLkhAAa7o+clAXixDyFAiU6yozGCIyh6E0q5BXChSYJBl2grBE0wAjtAAopQAAeQAl2gAS1wBI9QAyYgDFDwBC2gCwYwVBQYHPqwA0lwAQgwAvznD0CgBSjADwbABQ5AASxAASEgAhuQPsKxQknzhksRoNl4h6bSALXrfvmQZAswBBFgAA8CAQ5QAA+QkgtQAoMVo4cLSCORAzL/QARqQAIPgAP+MANzcAAPQAMQoAEmAARe4AE6wFTxUTnYIiZKmafQh4Rp0mhS46Pr1CCnpJOMEYZOdF27AwBJlizX0RwIkj5WK46j4jt66UaIJGr7UANYYAH50ANIFgMXwA9gwFouQAUXYKahJgAnQDlOESMLgAWD+wIHUAEYMa0XIgaTeCH246FzoiMWgxGyekcUixEWsAkIkALnKAE08AQVIAA+oJwk8ARKwAAsMAI0EASKQCbB00YNoAi1NqhKcMKYsAGwiwMecAF4kBN0Myon80ZkBGYbd0UBoJCSByTskZFI0AA7Yb0FsA8P0JH54AQG4BcoiQL7AAFdx0V1/4MblFcAJVACIbAAE3AB6rcE6SsCCFACHWAANRiDIKEjp0KOFuNpEREsMykTGOCj1FkpQuESKBuIkqfGzfKiMHMjLsHGTsMTdcgl2iFdmlFxcqqF5LEBHmAAFsAD+7ABPXA7TCASGqAEFhADPQCWDiAoHDMzpiISykQBMDEZaDAtG2EArPXGR3Jxg5YT+RsAiMQVOqIYF0ADDMAEWPDMQgADBeAGSnBNjjADaLACI5ACc3AEZLdF/RsvAHACibACxaAEIwADwvB+iEABNLBlIGACOKALFXATIjEgFKSK1Xg6AxABv8xDL6sS+YAptlKhhREAD7Bi6ZdlD7AA0rsASP8kIK4zIAuLAA5rAwaQBPmAAhXAAEMAARLwARVQBBi5pOGKhwdzWF4RoPJDp4e2AfzwAiHQnxNgMqXCo1vCoDoqp/yQZyshK+CBquWIhOA4H1XkFf7BoQ5UnBdQBc1IdvvAABngBRVwABKgAw3AqodyMurzGgLABVTtK+BUBA9wAzBA0yZwAC7AD1pgMtHzsph2igTpaRV3ZjWEVVygpzvwAzsxAjHAADSwCQ3QDh9FaIB0ErHDkoGBABMgCmqgBCygAiMABavbAScRBQ3QBEcQv9SgAViACCawnzjALhBTKZeNp8DsiHEmO4osEtAJnbJMeW4ERQW8ERWwAQFgAAX/0AD8KigOkFf8IAELcN4GkAEV4BcppgJZkGVIhCHb0w/qQQAPQDSDJDxRsQECQHhmstFxkQ955Q+WYAFiEZBIYhdyZhPrlBYNnhV4VhbXVhZWe4Qekb+ZTSdTaxdKIAUa4AQicAM8EAIbwAMOEAT+YARUIAEMRQTbfQULAAUGoJU1sYS4MQVLYAAgwA8WAADEzBEtcGgucE2Y5EK1SLKtYRSZwSd3miot+heW8Isk0AUQUANHoAVPsAC2EAT8oAIFtQ+fIAMSAAOh+gQwEAJgkG2UAgBBsAII4AFRoAMssA8/IAf70AAdkART4AE3QAsUI98jsx4S9IYZQQDqjChq/x0VRooYB9AAAyx/IAGdC1YAIDjAN1AB1BkqJHEAPKGuBVAAJ9DXNpBiBTABEFAlwmzjNATH3CfHXrgSyuEPMrC9angFIPECPJBkWbIPLmABVO0gRqg9GdED++Qe+6RmKrwRoaacq2I1EVN1GzbKTPsnRELQNjEDQCABM+C6QTABQWAD+zACG5ECEcAAeGDqGyACQ4AARtDCMgQAF2AGmHsBr5cDNzAEQ/BRRBAFXEYEkqBWBWAADpAFOhHwmdaA8+0SAKAA6hyjzKESJYAAKMADFEABEJANGpB+HVAE+kACFlDxNMADpUACJCACAfiCbPgRMNACIpACHWAEDJAMXP9AAytwCv4gAhNgBPuAAomgBhrgAUYgCRLAAlpAcKfr7tFC3wCqJz6ohfYjHAaeo5DBUNuptc7DOACQCYsRKf4wACcBsQ8i2YwV8H1svYD0IoVBkE89q0kyGTtxAh/wkZ6YZjpbARfAWv6ACy9gXxziiXZMYvVxar5y9KARKPtQAMrpeRzh4Bv2RssuRxtyKWQwq6gOIPtgBCFQAziABSvAA0/AAH5QCvzgBZggATwuAnkQCQhAZPW5Ce0DhTSTAhJAAh7gkRdQASIQA3PADyjABQzgAhUAAhjgkU5gE+SY8trzgxwXEYpcLi/yABOQAd7tDzewAUO2ASRguxOQZBT/IAEqcAMMoAU38AG32s0XhxJMkJ9AwAAp8ANYsAMmUAOB8AASEAWo0AIIAARWcAQmABB5/PHbV9DfQYMH+REc6K9fP3/6AgxQECAiP30LNQ7UdzCiPwD6MnIAEPJgx336SoIMqRIjP4/7/BWUabCkyI8iRQoAEBFnx5MZDWp8uW+hx4wPA+groI/AgJoyM8ZMudBKiBcCtAp44c/GBH37VviROUHAwXxnY8aE2ZYfBwEhKFQV40+A1JQGLiSMaMAGzJkHOob9WLPhw6YBAihIcBHhzIUZ+QGw0WQHCBZNApEwow/HAn4FSGgwM6EGjSdBaBgIC9gj4KP5/HUBAAIB/wkhExi0mBBqAQN/JvhoKHIlipJ9WPKQqLCgBAUHJmJckCDb6NCHERVXzCdzoEHvCitUiNADdIEFEvw5+NBgn4QFKK5A2JDkw9uBrmd6RDiZiA0IjIAghw8+IKGKJjoowx8oWEBBhTh0UMOfFgBoAQQPGPBACR1G8ACRhbwDKjt/liIgANkUaig8mfiRDaeZAJhMRpBg68kkw/jbT8XvgFJpsJ+qcqyt73zCyKSGiMpOnwECIKAxhbyrKZ/u/DmADxYmQOEIJ17AQIAY9BGglAoAqMEWF/IJQSYM8gEspRZP2uiAJwQgUp8NeADAgdfyu2gwhQg6Ciaj+nyIH8UGIP+jgBZd6yiyjPTRhIYbcGBghDJGqIEPfxDQgKAyckDAig5AmIGFLF6SrKFHMfKnVCl2CGKGFCgEQZAmVtgg0qOm2mi/66iiySGImHQygKPW4nGgAQAowIAHCnAgH6b8uUKfA/JxQJ8JbihAAgciiFRHYPfpLp8a+HHgBg0cQBYBfj64QAMoQ2QovIuMgkmylzR6SCQTB3gMshWjFCCtsFRq88YYZRRpX6p0LDQ/lfKbbF+MdMIopZM+IjJZc2eSUqZ/JxrgxIRYDHQhXRAoAoMjdrXiAwsK8OcCJ06YRD+PkSKyxUcRsK0AI/b6DiMJ0CDUHxIYLegu2IpkaMeDDl3/StEH9AXKYp8AOEODULBYAQYEBOhAhRFA+IEBGKwgAWJ8qSZ3IADUSISIDkxgQAMYOkDkCH5YAGWFEUZgIooOnsCiBRGeCLbjJAkluR+YFDtx6Yb6LCgDAJB4WJ8HHgjp2QgaSAAonjXn76iaGuj0ggpUuOCGBULwp4okJCCBBHBRgC+DA5IBEnP+RDLqUIlOfsBNjqgeip8zHDCgoIzfeIOkjFIMiybwEAKaIxgjQjLSllpy9Ud/DIhtqOa7Syg7RAFAOTIVicIoHx82IIIBAywQQZ8W6ABcE0AADBZggZ0Ny0/LYpE+isAAJmDkCBIYlgtIsA+1vCRQA5OJ+wwy/5WCkIgfJwuRxHSkDwSYgQEfGEEKaHAEAUTCACMIhRSEAAM8fKALNktWwYQlMn184BqfKkAg1ACCInSgBikwQQ2S1CK+cMxiG+kVsT6iKP3oS24XcZhOQCKZkAxAIgngWRaL9Jp9XCEAG3iAeYbAgAP0TwXj6WHkWGcnKJbLIP+SiJMSVr+YaM8AQ1gVP3rgAgcQJAwHyBjqtGgxXqmoIPl4QaRUEpKQwKQ7LvIT5mRDEPftB0bH60cf/WjC18TmAwxwgAMQcAV/MKALLeCACIpggTDMwA9hcAt4zPVLKtFkX0ZogwX2YYENCOAEAjDACfIxA+DogwoIMNcQZDAyO/8mK0UwQd5ECECYgYlsP/xIgRBEoAMreEAD+RBBC4TADyJ8gBqRWCECZnKwrW1wUK5JgQhKtQcuoIEKHojCCgYwhYM0wARUuAIMQKCDArQlR+E5H2D+1SSnWAQwj1odR1rikyQhRSc9eVMU7zJOiB1gAAXYgCAiqo8hLCAfABiCAwrQgBMcgJkHYOSOvEOkmeCkLf9qyYlWxDHY0E96Z9HKAmaSIgHwgDUCuKZd9DOotajKBRjkZEHE1CIa9cQl+VTVoIQaKOQhihFidBUVI+JVDPigBRLgAQIQwIILiGACexlBA5a3g/QYIAgyoMQBNiCDEIRgAoJSHRG4AAOM+MD/nvxQBAXGY8wFPKsBMUiloOiXyjhZkUkD2AIAtMZRO1mMAijAAQLmUAQehEALCMAUACggg4jCQAY1AENuPDACQRzhCAzogFB4VBA8+MAI/DhAE8WQnkdk4QdUkIAGmsACKKTgYUQhWMGq9MtDYZQADyhKUPoVo8hkzFVvDapCLqmTHz1sYkXaRwBkxEl9RMAfQ5gkU2zG0yFMTU7pxViIWkRUMT6FI9wlSAf3cQIEXMAC2zOAzUTCg23tIwR82geffIqQFEFGSgKwAbW2iwFXuUArPRGfcTeytR6Ccx9LUgwZCsmfBlohHxQAgyUijIAP8MAP+jDDD5jSAihMABlj/wln95SlDw9IoQBOmIAEhmCAT1RAfR1gwAIO0IAGGKB/N2XmEmrmBgGsyiMH2xcfvRmAQu2zivzYwgcWMAFHoKEEKPjBDChQAA2saQNBMEGBWgvjDYI4Jl3YgSOkoAUcaIAJHeDCDADwgxCsAAw1+IEOpKCBDqRgB1CggAbycArgAFJy/DhUSyrysI885k1f1AlY+/M5L3a3IR5MJYwygqQ/AcC+EXiARDRSgIiGWSL+qIvHmNeRJQ2AhPrK2FO3iRaFbBJYn4zbvTLnGimubtbLYgtRJCOV8L1pafqI9smmgpOUqeypOvoVf1L00yj5yk+G2UjcfvpTSP1wRw1+DP8fpY0yE846bnMbVsiIEqeo9JCisE40jzQYMvZNcVmuUsoIFaWxeCtroobhyzirJHJlidN7zaOoW0rap5VJSW4ksq8CoAJzbPqSeff2R4gnSb2Vu6hRmfMpi9Bd0YGvnGAUPZpHlgQAEsY6mCq3jrjh25qe//Ix1GZgxJAyzpA+8ZFTwXGIcbwQNwNAAfq+KvXm6z3u3cVNb4K3rDtIrp9Bpt4Ti9u1V+ZysrOacoqR3wNU90S15Ogx2r7qd/G1zQZrBCXkjgrOtbhs1PGs6sQCjPwE/J0qUck6Wm95w+F+9skrUOWqjxPzLObkueUnTmR/yD44oBIC9FyiobX2VcH/zXSfbFfpRN96xIzCUWxyl/JozHh2bq+PVz/1OqHsWLjhzlV9hHjqNBk9w4m/QFVvjXtgvwhD8lm1fqA79+7Didmn1PN5Z44w7qO+xfmyMfB/GHzjDBlIq42vQmm4yUmJmkuI7fGIe8O35vGpe+M5zHk7AOw/fus1cZMkYBGnlJg8pyul5FEA19C27FuIk+s5xzu5hWsVVGoUyEOlLIINEGoyfkuWoviXApA2BSi5tZAS0TMX9xE6LRo9Xku5LRIxbPs2ffEO0QM9mbvAHEQ/S7rBoZA57pES19AkOOm2Pvk86ds83kMKHjyXqhiWqYGiHFkajOAjkVCAHTkppTs//xMkHrnhniD8OoqJHAQUQ+PJOhyrH4YwO9Q5lIigCLQIFkIBt9U7PUXrwv4Are/ioHEbt06ywwWUDSA8DMrpCACQhSXktnCSP8A4qUkawkGBvU0sRDm5wJqoKOsTGXM5C9fbQICBPvqJCsWDP3wzPd6TOQ9yvO9gn495uW8TP4hDQCo5mDpEv0ZSQ1bMnEaUGgC0N8kJRT9BHZWDjfsbuF4BpZBKHRKUDa2Av5nIDmmDvjjkvnOZOv0IvIWLG/GLEnrbLqkwI5+CGGGZwF8RPIywwZ6QCYsApLn5JJFbuGr0N8krq0j0GferOvD4xRPiplIax7Wzuy6Mil2UN3vbRf8qmRtqJLt8aTlDbIu70MGMq8gZg4gBSAC108OV48HKGz2BVCBrRLmi80X3Up2UmbelOb6QokLBA596UTndw0EkJEGt+zaT0z5sC4/PEScrFLryA4yMpEKP+RkfMRcSscG3Mrs9nDqlU8AmjD2i08DnOSEELEewcxGC48Z/8QcbxKBbxDeecbJdTDrJkZiSm5pRqiMFFBEMarKB85UQgogSoQizY57vsbsilLkeskJaBIpXBKpUirWs+j6XtDrH4IirTABl9MphyUieO64FLB5/RIhIKqPUkTh6G0KN3MASCYACyABpZDif20Ny27WyA0sKBCkV4SiOBEZDhDk/eQgV4RxO4ixO4zxO5ExO5VxO5mzOfggIADs=\"\n",
    "print(img)\n",
    "\n",
    "pub = \"Annual Reviews\" \n",
    "print(pub)\n",
    "\n",
    "\n",
    "\n",
    "#context = {\"ID\":ID, \"title\":title, \"j_url\": j_url, \"img\":img, \"pub\":pub, \"articles\":articles, \"urls\":urls}\n",
    "#return (context)\n",
    "\n"
   ]
  },
  {
   "cell_type": "code",
   "execution_count": 2,
   "metadata": {},
   "outputs": [],
   "source": [
    "\n",
    "def HR_paper_titles():\n",
    "    url = \"https://www.journals.uchicago.edu/toc/hr/current\" \n",
    "    headers = {\n",
    "        \"User-Agent\": \"Mozilla/5.0 (X11; Ubuntu; Linux x86_64; rv:47.0) Gecko/20100101 Firefox/47.0\",\n",
    "        }\n",
    "    HP = requests.get(url, headers=headers)\n",
    "    soup = BeautifulSoup(HP.text, \"html.parser\")\n",
    "    #雑誌のタイトル\n",
    "    publisher = soup.find_all(class_=\"menu-section\")[1].string\n",
    "    title = soup.find('em').string\n",
    "\n",
    "    #論文のタイトル\n",
    "    papers = soup.find_all(class_=\"hlFld-Title\")\n",
    "    list = []\n",
    "    for paper in papers [2:]:\n",
    "        if \"<i>\" not in str(paper):\n",
    "            paper_titles = paper.getText()\n",
    "            list.append(paper_titles)\n",
    "    context = {\"HR\":title,\"CUP\":publisher,\"HR_paper_titles\":list,\"HR_url\":url}\n",
    "    return (context)\n"
   ]
  },
  {
   "cell_type": "code",
   "execution_count": null,
   "metadata": {},
   "outputs": [],
   "source": []
  }
 ],
 "metadata": {
  "kernelspec": {
   "display_name": "Python 3",
   "language": "python",
   "name": "python3"
  },
  "language_info": {
   "codemirror_mode": {
    "name": "ipython",
    "version": 3
   },
   "file_extension": ".py",
   "mimetype": "text/x-python",
   "name": "python",
   "nbconvert_exporter": "python",
   "pygments_lexer": "ipython3",
   "version": "3.7.3"
  }
 },
 "nbformat": 4,
 "nbformat_minor": 2
}
