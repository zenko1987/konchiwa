{
 "cells": [
  {
   "cell_type": "code",
   "execution_count": 44,
   "metadata": {},
   "outputs": [
    {
     "name": "stdout",
     "output_type": "stream",
     "text": [
      "KaTetsu\n",
      "PhilosCompass\n",
      "Tetsugaku\n"
     ]
    }
   ],
   "source": [
    "import PhilosRev\n",
    "import Wiley_philos\n",
    "import JAPAN\n",
    "\n",
    "\n",
    "PhilosRev = PhilosRev.PhilosRev()\n",
    "Nous = Wiley_philos.Nous()\n",
    "PPR = Wiley_philos.PPR()\n",
    "PhilosCompass = Wiley_philos.PhilosCompass()\n",
    "J_Appl_Philos = Wiley_philos.J_Appl_Philos()\n",
    "Tetsu = JAPAN.Tetsu()\n",
    "KaTetsu = JAPAN.Ka_Tetsu()\n",
    "\n",
    "j = [KaTetsu, PhilosCompass, Tetsu]\n",
    "IDs = [d['ID'] for d in j]\n",
    "for ID in IDs:\n",
    "    print(ID)\n",
    "\n",
    "#title = [d.get(\"title\") for d in j]\n",
    "#print(title)"
   ]
  },
  {
   "cell_type": "code",
   "execution_count": 40,
   "metadata": {},
   "outputs": [
    {
     "data": {
      "text/plain": [
       "[{'ID': 'KaTetsu',\n",
       "  'title': '科学哲学',\n",
       "  'j_url': 'https://www.jstage.jst.go.jp/browse/jpssj/list/-char/ja',\n",
       "  'img': 'https://www1.e-hon.ne.jp/images/syoseki/ac_k/14/33838714.jpg',\n",
       "  'pub': '日本科学哲学会',\n",
       "  'articles': ['同一性の相対主義の可能性と限界', '選択可能性と「自由論のドグマ」', '仲介者を措定する認識論から脱するということ'],\n",
       "  'urls': ['https://www.jstage.jst.go.jp/article/jpssj/51/1/51_1/_article/-char/ja',\n",
       "   'https://www.jstage.jst.go.jp/article/jpssj/51/1/51_19/_article/-char/ja',\n",
       "   'https://www.jstage.jst.go.jp/article/jpssj/51/1/51_41/_article/-char/ja']},\n",
       " {'ID': 'PhilosCompass',\n",
       "  'title': 'Philosophy Compass ',\n",
       "  'j_url': 'https://onlinelibrary.wiley.com/journal/17479991#pane-01cbe741-499a-4611-874e-1061f1f4679e01',\n",
       "  'img': 'https://wol-prod-cdn.literatumonline.com/cms/attachment/c608b698-4fab-4ef5-bd6d-4ea9264772ae/phc3.v14.4.cover.gif',\n",
       "  'pub': 'Wiley',\n",
       "  'articles': ['Collective harm and the inefficacy problem',\n",
       "   \"Teaching and learning guide for Anton Wilhelm Amo's philosophy of mind\",\n",
       "   'Workplace democracy—The recent debate',\n",
       "   'What is quantum information?',\n",
       "   'Play and games: An opinionated introduction',\n",
       "   'Ideal vs. Non‐ideal Theory: A Conceptual Map',\n",
       "   'Disagreement as Evidence: The Epistemology of Controversy',\n",
       "   'Realism in Normative Political Theory',\n",
       "   'Ground',\n",
       "   'What is Constructivism in Ethics and Metaethics?'],\n",
       "  'urls': ['https://onlinelibrary.wiley.com/doi/epdf/10.1111/phc3.12587',\n",
       "   'https://onlinelibrary.wiley.com/doi/epdf/10.1111/phc3.12588',\n",
       "   'https://onlinelibrary.wiley.com/doi/epdf/10.1111/phc3.12574',\n",
       "   'https://onlinelibrary.wiley.com/doi/epdf/10.1111/phc3.12572',\n",
       "   'https://onlinelibrary.wiley.com/doi/epdf/10.1111/phc3.12573',\n",
       "   'https://onlinelibrary.wiley.com/doi/epdf/10.1111/j.1747-9991.2012.00500.x',\n",
       "   'https://onlinelibrary.wiley.com/doi/epdf/10.1111/j.1747-9991.2009.00237.x',\n",
       "   'https://onlinelibrary.wiley.com/doi/epdf/10.1111/phc3.12148',\n",
       "   'https://onlinelibrary.wiley.com/doi/epdf/10.1111/phc3.12220',\n",
       "   'https://onlinelibrary.wiley.com/doi/epdf/10.1111/j.1747-9991.2009.00280.x']},\n",
       " {'ID': 'Tetsugaku',\n",
       "  'title': '哲学',\n",
       "  'j_url': 'https://www.jstage.jst.go.jp/browse/philosophy/list/-char/ja',\n",
       "  'img': 'https://www.kinokuniya.co.jp/images/goods/ar2/web/imgdata2/large/48628/4862859364.jpg',\n",
       "  'pub': '日本哲学会',\n",
       "  'articles': ['この世界にいながら、この世界に依存しないということ',\n",
       "   'なぜヘーゲルは『精神現象学』の体系的位置付けを変更したのか',\n",
       "   'ヘーゲルの二つの無限判断という思想',\n",
       "   '存在-神-論と神の死',\n",
       "   'プラトン『国家』第六・七巻における「〈善〉のイデア」と「仮設されたのでない原理」',\n",
       "   '論証と原因',\n",
       "   '反省の問題は本当に問題なのか',\n",
       "   'ライプニッツの医学的方法',\n",
       "   'ドゥンス・スコトゥスの形相的区別について',\n",
       "   '迂回された近代'],\n",
       "  'urls': ['https://www.jstage.jst.go.jp/article/philosophy/2019/70/2019_129/_article/-char/ja',\n",
       "   'https://www.jstage.jst.go.jp/article/philosophy/2019/70/2019_145/_article/-char/ja',\n",
       "   'https://www.jstage.jst.go.jp/article/philosophy/2019/70/2019_160/_article/-char/ja',\n",
       "   'https://www.jstage.jst.go.jp/article/philosophy/2019/70/2019_176/_article/-char/ja',\n",
       "   'https://www.jstage.jst.go.jp/article/philosophy/2019/70/2019_191/_article/-char/ja',\n",
       "   'https://www.jstage.jst.go.jp/article/philosophy/2019/70/2019_205/_article/-char/ja',\n",
       "   'https://www.jstage.jst.go.jp/article/philosophy/2019/70/2019_220/_article/-char/ja',\n",
       "   'https://www.jstage.jst.go.jp/article/philosophy/2019/70/2019_235/_article/-char/ja',\n",
       "   'https://www.jstage.jst.go.jp/article/philosophy/2019/70/2019_250/_article/-char/ja',\n",
       "   'https://www.jstage.jst.go.jp/article/philosophy/2019/70/2019_266/_article/-char/ja']}]"
      ]
     },
     "execution_count": 40,
     "metadata": {},
     "output_type": "execute_result"
    }
   ],
   "source": [
    "[{'ID': 'KaTetsu', 'title': '科学哲学', 'j_url': 'https://www.jstage.jst.go.jp/browse/jpssj/list/-char/ja', 'img': 'https://www1.e-hon.ne.jp/images/syoseki/ac_k/14/33838714.jpg', 'pub': '日本科学哲学会', 'articles': ['同一性の相対主義の可能性と限界', '選択可能性と「自由論のドグマ」', '仲介者を措定する認識論から脱するということ'], 'urls': ['https://www.jstage.jst.go.jp/article/jpssj/51/1/51_1/_article/-char/ja', 'https://www.jstage.jst.go.jp/article/jpssj/51/1/51_19/_article/-char/ja', 'https://www.jstage.jst.go.jp/article/jpssj/51/1/51_41/_article/-char/ja']}, {'ID': 'PhilosCompass', 'title': 'Philosophy Compass ', 'j_url': 'https://onlinelibrary.wiley.com/journal/17479991#pane-01cbe741-499a-4611-874e-1061f1f4679e01', 'img': 'https://wol-prod-cdn.literatumonline.com/cms/attachment/c608b698-4fab-4ef5-bd6d-4ea9264772ae/phc3.v14.4.cover.gif', 'pub': 'Wiley', 'articles': ['Collective harm and the inefficacy problem', \"Teaching and learning guide for Anton Wilhelm Amo's philosophy of mind\", 'Workplace democracy—The recent debate', 'What is quantum information?', 'Play and games: An opinionated introduction', 'Ideal vs. Non‐ideal Theory: A Conceptual Map', 'Disagreement as Evidence: The Epistemology of Controversy', 'Realism in Normative Political Theory', 'Ground', 'What is Constructivism in Ethics and Metaethics?'], 'urls': ['https://onlinelibrary.wiley.com/doi/epdf/10.1111/phc3.12587', 'https://onlinelibrary.wiley.com/doi/epdf/10.1111/phc3.12588', 'https://onlinelibrary.wiley.com/doi/epdf/10.1111/phc3.12574', 'https://onlinelibrary.wiley.com/doi/epdf/10.1111/phc3.12572', 'https://onlinelibrary.wiley.com/doi/epdf/10.1111/phc3.12573', 'https://onlinelibrary.wiley.com/doi/epdf/10.1111/j.1747-9991.2012.00500.x', 'https://onlinelibrary.wiley.com/doi/epdf/10.1111/j.1747-9991.2009.00237.x', 'https://onlinelibrary.wiley.com/doi/epdf/10.1111/phc3.12148', 'https://onlinelibrary.wiley.com/doi/epdf/10.1111/phc3.12220', 'https://onlinelibrary.wiley.com/doi/epdf/10.1111/j.1747-9991.2009.00280.x']}, {'ID': 'Tetsugaku', 'title': '哲学', 'j_url': 'https://www.jstage.jst.go.jp/browse/philosophy/list/-char/ja', 'img': 'https://www.kinokuniya.co.jp/images/goods/ar2/web/imgdata2/large/48628/4862859364.jpg', 'pub': '日本哲学会', 'articles': ['この世界にいながら、この世界に依存しないということ', 'なぜヘーゲルは『精神現象学』の体系的位置付けを変更したのか', 'ヘーゲルの二つの無限判断という思想', '存在-神-論と神の死', 'プラトン『国家』第六・七巻における「〈善〉のイデア」と「仮設されたのでない原理」', '論証と原因', '反省の問題は本当に問題なのか', 'ライプニッツの医学的方法', 'ドゥンス・スコトゥスの形相的区別について', '迂回された近代'], 'urls': ['https://www.jstage.jst.go.jp/article/philosophy/2019/70/2019_129/_article/-char/ja', 'https://www.jstage.jst.go.jp/article/philosophy/2019/70/2019_145/_article/-char/ja', 'https://www.jstage.jst.go.jp/article/philosophy/2019/70/2019_160/_article/-char/ja', 'https://www.jstage.jst.go.jp/article/philosophy/2019/70/2019_176/_article/-char/ja', 'https://www.jstage.jst.go.jp/article/philosophy/2019/70/2019_191/_article/-char/ja', 'https://www.jstage.jst.go.jp/article/philosophy/2019/70/2019_205/_article/-char/ja', 'https://www.jstage.jst.go.jp/article/philosophy/2019/70/2019_220/_article/-char/ja', 'https://www.jstage.jst.go.jp/article/philosophy/2019/70/2019_235/_article/-char/ja', 'https://www.jstage.jst.go.jp/article/philosophy/2019/70/2019_250/_article/-char/ja', 'https://www.jstage.jst.go.jp/article/philosophy/2019/70/2019_266/_article/-char/ja']}]"
   ]
  },
  {
   "cell_type": "code",
   "execution_count": null,
   "metadata": {},
   "outputs": [],
   "source": []
  }
 ],
 "metadata": {
  "kernelspec": {
   "display_name": "Python 3",
   "language": "python",
   "name": "python3"
  },
  "language_info": {
   "codemirror_mode": {
    "name": "ipython",
    "version": 3
   },
   "file_extension": ".py",
   "mimetype": "text/x-python",
   "name": "python",
   "nbconvert_exporter": "python",
   "pygments_lexer": "ipython3",
   "version": "3.7.3"
  }
 },
 "nbformat": 4,
 "nbformat_minor": 2
}
