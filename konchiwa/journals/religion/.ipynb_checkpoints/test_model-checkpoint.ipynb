{
 "cells": [
  {
   "cell_type": "code",
   "execution_count": 35,
   "metadata": {},
   "outputs": [
    {
     "ename": "ModuleNotFoundError",
     "evalue": "No module named 'HR_chicago'",
     "output_type": "error",
     "traceback": [
      "\u001b[1;31m---------------------------------------------------------------------------\u001b[0m",
      "\u001b[1;31mModuleNotFoundError\u001b[0m                       Traceback (most recent call last)",
      "\u001b[1;32m<ipython-input-35-feac33a27259>\u001b[0m in \u001b[0;36m<module>\u001b[1;34m\u001b[0m\n\u001b[1;32m----> 1\u001b[1;33m \u001b[1;32mimport\u001b[0m \u001b[0mHR_chicago\u001b[0m\u001b[1;33m\u001b[0m\u001b[1;33m\u001b[0m\u001b[0m\n\u001b[0m\u001b[0;32m      2\u001b[0m \u001b[1;32mfrom\u001b[0m \u001b[0mkonchiwa\u001b[0m\u001b[1;33m.\u001b[0m\u001b[0mjournals\u001b[0m\u001b[1;33m.\u001b[0m\u001b[0mreligion\u001b[0m \u001b[1;32mimport\u001b[0m \u001b[0mReligion_brill\u001b[0m\u001b[1;33m\u001b[0m\u001b[1;33m\u001b[0m\u001b[0m\n\u001b[0;32m      3\u001b[0m \u001b[1;32mfrom\u001b[0m \u001b[0mkonchiwa\u001b[0m\u001b[1;33m.\u001b[0m\u001b[0mjournals\u001b[0m\u001b[1;33m.\u001b[0m\u001b[0mreligion\u001b[0m \u001b[1;32mimport\u001b[0m \u001b[0mReli_routledge\u001b[0m\u001b[1;33m\u001b[0m\u001b[1;33m\u001b[0m\u001b[0m\n\u001b[0;32m      4\u001b[0m \u001b[1;32mfrom\u001b[0m \u001b[0mkonchiwa\u001b[0m\u001b[1;33m.\u001b[0m\u001b[0mjournals\u001b[0m\u001b[1;33m.\u001b[0m\u001b[0mreligion\u001b[0m \u001b[1;32mimport\u001b[0m \u001b[0mreligion_sage\u001b[0m\u001b[1;33m\u001b[0m\u001b[1;33m\u001b[0m\u001b[0m\n\u001b[0;32m      5\u001b[0m \u001b[1;32mfrom\u001b[0m \u001b[0mkonchiwa\u001b[0m\u001b[1;33m.\u001b[0m\u001b[0mjournals\u001b[0m\u001b[1;33m.\u001b[0m\u001b[0mreligion\u001b[0m \u001b[1;32mimport\u001b[0m \u001b[0mSHUKYO\u001b[0m\u001b[1;33m\u001b[0m\u001b[1;33m\u001b[0m\u001b[0m\n",
      "\u001b[1;31mModuleNotFoundError\u001b[0m: No module named 'HR_chicago'"
     ]
    }
   ],
   "source": [
    "import HR_chicago\n",
    "from konchiwa.journals.religion import Religion_brill\n",
    "from konchiwa.journals.religion import Reli_routledge\n",
    "from konchiwa.journals.religion import religion_sage\n",
    "from konchiwa.journals.religion import SHUKYO\n",
    "from konchiwa.journals.religion import SHU_SYA\n",
    "\n",
    "#論文リストの取り込み\n",
    "SHUKYO = SHUKYO.Shukyo()\n",
    "SHU_SYA = SHU_SYA.ShuSya()\n",
    "NU = Religion_brill.NU()\n",
    "Reli = Reli_routledge.Reli_paper_titles()\n",
    "MTSR = Religion_brill.MTSR()\n",
    "CRR = religion_sage.CRR()\n",
    "HR = HR_chicago.HR_titles()\n",
    "#title, articles, urls, j_url, img, pub \n",
    "#ID[0], title[1], j_url[2], img[3], pub[4], articles[5], urls[6] = HR_chicago.HR_titles()\n",
    "\n",
    "\n",
    "#哲学\n",
    "from konchiwa.journals.philosophy import PhilosRev\n",
    "from konchiwa.journals.philosophy import Wiley_philos\n",
    "from konchiwa.journals.philosophy import JAPAN\n",
    "\n",
    "\n",
    "PhilosRev = PhilosRev.PhilosRev()\n",
    "Nous = Wiley_philos.Nous()\n",
    "PPR = Wiley_philos.PPR()\n",
    "PhilosCompass = Wiley_philos.PhilosCompass()\n",
    "J_Appl_Philos = Wiley_philos.J_Appl_Philos()\n",
    "Tetsu = JAPAN.Tetsu()\n",
    "KaTetsu = JAPAN.Ka_Tetsu()\n",
    "\n",
    "\n",
    "\n",
    "#文化人類学\n",
    "from konchiwa.journals.cul_anthropology import CA\n",
    "from konchiwa.journals.cul_anthropology import CA_sage\n",
    "\n",
    "\n",
    "CA = CA.CA()\n",
    "Anthropol_Theory = CA_sage.Anthropol_Theory()\n",
    "\n",
    "\n",
    "\n",
    "\n",
    "j = [HR, Reli, SHU_SYA, SHUKYO, CRR, NU, MTSR, KaTetsu, Tetsu, CA, PPR, Nous, PhilosCompass, PhilosRev, J_Appl_Philos, Anthropol_Theory]\n",
    "IDs = [d.get(\"ID\") for d in j]\n",
    "for ID in IDs:\n",
    "    print(ID)\n",
    "\n",
    "titles = [d.get(\"title\") for d in j]\n",
    "for title in titles:\n",
    "    print(title)"
   ]
  },
  {
   "cell_type": "code",
   "execution_count": null,
   "metadata": {},
   "outputs": [],
   "source": [
    "[{'ID': 'KaTetsu', 'title': '科学哲学', 'j_url': 'https://www.jstage.jst.go.jp/browse/jpssj/list/-char/ja', 'img': 'https://www1.e-hon.ne.jp/images/syoseki/ac_k/14/33838714.jpg', 'pub': '日本科学哲学会', 'articles': ['同一性の相対主義の可能性と限界', '選択可能性と「自由論のドグマ」', '仲介者を措定する認識論から脱するということ'], 'urls': ['https://www.jstage.jst.go.jp/article/jpssj/51/1/51_1/_article/-char/ja', 'https://www.jstage.jst.go.jp/article/jpssj/51/1/51_19/_article/-char/ja', 'https://www.jstage.jst.go.jp/article/jpssj/51/1/51_41/_article/-char/ja']}, {'ID': 'PhilosCompass', 'title': 'Philosophy Compass ', 'j_url': 'https://onlinelibrary.wiley.com/journal/17479991#pane-01cbe741-499a-4611-874e-1061f1f4679e01', 'img': 'https://wol-prod-cdn.literatumonline.com/cms/attachment/c608b698-4fab-4ef5-bd6d-4ea9264772ae/phc3.v14.4.cover.gif', 'pub': 'Wiley', 'articles': ['Collective harm and the inefficacy problem', \"Teaching and learning guide for Anton Wilhelm Amo's philosophy of mind\", 'Workplace democracy—The recent debate', 'What is quantum information?', 'Play and games: An opinionated introduction', 'Ideal vs. Non‐ideal Theory: A Conceptual Map', 'Disagreement as Evidence: The Epistemology of Controversy', 'Realism in Normative Political Theory', 'Ground', 'What is Constructivism in Ethics and Metaethics?'], 'urls': ['https://onlinelibrary.wiley.com/doi/epdf/10.1111/phc3.12587', 'https://onlinelibrary.wiley.com/doi/epdf/10.1111/phc3.12588', 'https://onlinelibrary.wiley.com/doi/epdf/10.1111/phc3.12574', 'https://onlinelibrary.wiley.com/doi/epdf/10.1111/phc3.12572', 'https://onlinelibrary.wiley.com/doi/epdf/10.1111/phc3.12573', 'https://onlinelibrary.wiley.com/doi/epdf/10.1111/j.1747-9991.2012.00500.x', 'https://onlinelibrary.wiley.com/doi/epdf/10.1111/j.1747-9991.2009.00237.x', 'https://onlinelibrary.wiley.com/doi/epdf/10.1111/phc3.12148', 'https://onlinelibrary.wiley.com/doi/epdf/10.1111/phc3.12220', 'https://onlinelibrary.wiley.com/doi/epdf/10.1111/j.1747-9991.2009.00280.x']}, {'ID': 'Tetsugaku', 'title': '哲学', 'j_url': 'https://www.jstage.jst.go.jp/browse/philosophy/list/-char/ja', 'img': 'https://www.kinokuniya.co.jp/images/goods/ar2/web/imgdata2/large/48628/4862859364.jpg', 'pub': '日本哲学会', 'articles': ['この世界にいながら、この世界に依存しないということ', 'なぜヘーゲルは『精神現象学』の体系的位置付けを変更したのか', 'ヘーゲルの二つの無限判断という思想', '存在-神-論と神の死', 'プラトン『国家』第六・七巻における「〈善〉のイデア」と「仮設されたのでない原理」', '論証と原因', '反省の問題は本当に問題なのか', 'ライプニッツの医学的方法', 'ドゥンス・スコトゥスの形相的区別について', '迂回された近代'], 'urls': ['https://www.jstage.jst.go.jp/article/philosophy/2019/70/2019_129/_article/-char/ja', 'https://www.jstage.jst.go.jp/article/philosophy/2019/70/2019_145/_article/-char/ja', 'https://www.jstage.jst.go.jp/article/philosophy/2019/70/2019_160/_article/-char/ja', 'https://www.jstage.jst.go.jp/article/philosophy/2019/70/2019_176/_article/-char/ja', 'https://www.jstage.jst.go.jp/article/philosophy/2019/70/2019_191/_article/-char/ja', 'https://www.jstage.jst.go.jp/article/philosophy/2019/70/2019_205/_article/-char/ja', 'https://www.jstage.jst.go.jp/article/philosophy/2019/70/2019_220/_article/-char/ja', 'https://www.jstage.jst.go.jp/article/philosophy/2019/70/2019_235/_article/-char/ja', 'https://www.jstage.jst.go.jp/article/philosophy/2019/70/2019_250/_article/-char/ja', 'https://www.jstage.jst.go.jp/article/philosophy/2019/70/2019_266/_article/-char/ja']}]"
   ]
  },
  {
   "cell_type": "code",
   "execution_count": null,
   "metadata": {},
   "outputs": [],
   "source": []
  }
 ],
 "metadata": {
  "kernelspec": {
   "display_name": "Python 3",
   "language": "python",
   "name": "python3"
  },
  "language_info": {
   "codemirror_mode": {
    "name": "ipython",
    "version": 3
   },
   "file_extension": ".py",
   "mimetype": "text/x-python",
   "name": "python",
   "nbconvert_exporter": "python",
   "pygments_lexer": "ipython3",
   "version": "3.7.3"
  }
 },
 "nbformat": 4,
 "nbformat_minor": 2
}
