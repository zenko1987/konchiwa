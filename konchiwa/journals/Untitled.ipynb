{
 "cells": [
  {
   "cell_type": "code",
   "execution_count": 1,
   "metadata": {},
   "outputs": [
    {
     "ename": "NameError",
     "evalue": "name 'soup' is not defined",
     "output_type": "error",
     "traceback": [
      "\u001b[1;31m---------------------------------------------------------------------------\u001b[0m",
      "\u001b[1;31mNameError\u001b[0m                                 Traceback (most recent call last)",
      "\u001b[1;32m<ipython-input-1-abf32e10e72a>\u001b[0m in \u001b[0;36m<module>\u001b[1;34m\u001b[0m\n\u001b[0;32m     12\u001b[0m \u001b[0mszoup\u001b[0m \u001b[1;33m=\u001b[0m \u001b[0mBeautifulSoup\u001b[0m\u001b[1;33m(\u001b[0m\u001b[0mHP\u001b[0m\u001b[1;33m.\u001b[0m\u001b[0mtext\u001b[0m\u001b[1;33m,\u001b[0m \u001b[1;34m'lxml'\u001b[0m\u001b[1;33m)\u001b[0m\u001b[1;33m\u001b[0m\u001b[1;33m\u001b[0m\u001b[0m\n\u001b[0;32m     13\u001b[0m \u001b[1;31m#ジャーナルタイトル\u001b[0m\u001b[1;33m\u001b[0m\u001b[1;33m\u001b[0m\u001b[1;33m\u001b[0m\u001b[0m\n\u001b[1;32m---> 14\u001b[1;33m \u001b[0mpapers\u001b[0m \u001b[1;33m=\u001b[0m \u001b[0msoup\u001b[0m\u001b[1;33m.\u001b[0m\u001b[0mfind\u001b[0m\u001b[1;33m(\u001b[0m\u001b[0mclass_\u001b[0m\u001b[1;33m=\u001b[0m\u001b[1;34m\"title\"\u001b[0m\u001b[1;33m)\u001b[0m\u001b[1;33m.\u001b[0m\u001b[0mstring\u001b[0m\u001b[1;33m\u001b[0m\u001b[1;33m\u001b[0m\u001b[0m\n\u001b[0m\u001b[0;32m     15\u001b[0m \u001b[1;33m\u001b[0m\u001b[0m\n\u001b[0;32m     16\u001b[0m \u001b[1;31m#論文タイトル\u001b[0m\u001b[1;33m\u001b[0m\u001b[1;33m\u001b[0m\u001b[1;33m\u001b[0m\u001b[0m\n",
      "\u001b[1;31mNameError\u001b[0m: name 'soup' is not defined"
     ]
    }
   ],
   "source": [
    "import requests\n",
    "from bs4 import BeautifulSoup\n",
    "import lxml\n",
    "import re\n",
    "\n",
    "#JOURNAL FOR THE COGNITIVE SCIENCE OF RELIGION\n",
    "url = \"https://journals.equinoxpub.com/JCSR\"\n",
    "headers = {\n",
    "    \"User-Agent\": \"Mozilla/5.0 (X11; Ubuntu; Linux x86_64; rv:47.0) Gecko/20100101 Firefox/47.0\",\n",
    "    }\n",
    "HP = requests.get(url, headers=headers)\n",
    "szoup = BeautifulSoup(HP.text, 'lxml')\n",
    "#ジャーナルタイトル\n",
    "papers = soup.find(class_=\"title\").string\n",
    "\n",
    "#論文タイトル\n",
    "p_titles = soup.find_all(class_=\"header\")\n",
    "for p_title in p_titles:\n",
    "    aaa = p_title.getText()\n",
    "    if 'Article' in aaa:\n",
    "        Reli_titles = aaa.replace(\"Article\",'').replace(\"\\n\",\"\").strip(\" \")\n",
    "        list.append(Reli_titles)\n",
    "context = {\"Reli\":papers,\"Reli_paper_titles\":list,\"Reli_url\":url}\n",
    "return (context)"
   ]
  },
  {
   "cell_type": "code",
   "execution_count": 11,
   "metadata": {},
   "outputs": [],
   "source": [
    "\n",
    "\n",
    "#JOURNAL FOR THE COGNITIVE SCIENCE OF RELIGION\n",
    "url = \"https://journals.equinoxpub.com/JCSR\"\n",
    "headers = {\n",
    "    \"User-Agent\": \"Mozilla/5.0 (X11; Ubuntu; Linux x86_64; rv:47.0) Gecko/20100101 Firefox/47.0\",\n",
    "    }\n",
    "HP = requests.get(url, headers=headers)\n",
    "soup = BeautifulSoup(HP.text, 'lxml')\n",
    "#ジャーナルタイトル\n",
    "#papers = soup.find(class_=\"title\").string\n",
    "\n",
    "#論文タイトル\n",
    "p_titles = soup.find_all(class_=\"header\")\n",
    "list = []\n",
    "for p_title in p_titles:\n",
    "    aaa = p_title.getText()\n",
    "    if 'Article' in aaa:\n",
    "        Reli_titles = aaa.replace(\"Article\",'').replace(\"\\n\",\"\").strip(\" \")\n",
    "        list.append(Reli_titles)\n",
    "    print(list)"
   ]
  },
  {
   "cell_type": "code",
   "execution_count": 28,
   "metadata": {},
   "outputs": [
    {
     "name": "stdout",
     "output_type": "stream",
     "text": [
      "Columns in Context: Venerable Monuments and Landscapes of Memory in Early India\n",
      "The Non-Immanent Frame: Medicine as Ethics in the Islamic Modernist Movement of Late Colonial Indonesia\n"
     ]
    }
   ],
   "source": [
    "import requests\n",
    "from bs4 import BeautifulSoup\n",
    "import lxml\n",
    "import re\n",
    "\n",
    "url = \"https://www.journals.uchicago.edu/toc/hr/current\" \n",
    "headers = {\n",
    "        \"User-Agent\": \"Mozilla/5.0 (X11; Ubuntu; Linux x86_64; rv:47.0) Gecko/20100101 Firefox/47.0\",\n",
    "        }\n",
    "HP = requests.get(url, headers=headers)\n",
    "soup = BeautifulSoup(HP.text, \"html.parser\")\n",
    "    #雑誌のタイトル\n",
    "publisher = soup.find_all(class_=\"menu-section\")[1].string\n",
    "title = soup.find('em').string\n",
    "\n",
    "    #論文のタイトル\n",
    "list = []\n",
    "papers = soup.find_all(class_=\"hlFld-Title\")\n",
    "for paper in papers [2:]:\n",
    "    if \"<i>\" not in str(paper):\n",
    "        paper_titles = paper.getText()\n",
    "        print(paper_titles)\n",
    "        \n",
    "        \"\"\"  \n",
    "\n",
    "\"\"\"  "
   ]
  },
  {
   "cell_type": "code",
   "execution_count": 30,
   "metadata": {},
   "outputs": [
    {
     "name": "stdout",
     "output_type": "stream",
     "text": [
      "Columns in Context: Venerable Monuments and Landscapes of Memory in Early India\n",
      "The Non-Immanent Frame: Medicine as Ethics in the Islamic Modernist Movement of Late Colonial Indonesia\n",
      "Science, Sorcery, and Secrets in the Fawāʾid Nūrāniyya of Sīdi Muḥammad Al-Kuntī\n",
      "https://www.journals.uchicago.edu/doi/abs/10.1086/702256 History of Religions\n",
      "https://www.journals.uchicago.edu/doi/abs/10.1086/702254 History of Religions\n",
      "https://www.journals.uchicago.edu/doi/abs/10.1086/702255 History of Religions\n",
      "/na101/home/literatum/publisher/uchicago/journals/content/hr/2019/hr.2019.58.issue-4/hr.2019.58.issue-4/20190426-01/hr.2019.58.issue-4.cover.gif\n",
      "The University of Chicago Press\n"
     ]
    }
   ],
   "source": [
    "import requests\n",
    "from bs4 import BeautifulSoup\n",
    "import lxml\n",
    "import re\n",
    "\n",
    "HR_url = \"https://www.journals.uchicago.edu/toc/hr/current\" \n",
    "headers = {\n",
    "        \"User-Agent\": \"Mozilla/5.0 (X11; Ubuntu; Linux x86_64; rv:47.0) Gecko/20100101 Firefox/47.0\",\n",
    "        }\n",
    "HP = requests.get(HR_url, headers=headers)\n",
    "HP_text = HP.text.split('Book Reviews')\n",
    "soup = BeautifulSoup(HP_text[0], \"html.parser\")\n",
    "    #雑誌のタイトル\n",
    "publisher = soup.find_all(class_=\"menu-section\")[1].string\n",
    "title = soup.find('em').string\n",
    "\n",
    "    #論文のタイトル\n",
    "papers = soup.find_all(class_=\"hlFld-Title\")\n",
    "for paper in papers[2:]:\n",
    "    paper_titles = paper.getText()\n",
    "    print(paper_titles)\n",
    "\n",
    "aa = soup.find_all('a', class_=\"ref nowrap\")\n",
    "for a in aa[2:]:\n",
    "    b = a.get('href')\n",
    "    if \"/abs\" in b:\n",
    "        urls = \"https://www.journals.uchicago.edu\" + b\n",
    "        print(urls, title)\n",
    "\n",
    "img = soup.find('img', alt=\"Publication Cover\")\n",
    "print(img.get(\"src\"))\n",
    "\n",
    "pub = soup.find_all(class_=\"menu-section\")\n",
    "print(pub[1].string)"
   ]
  },
  {
   "cell_type": "code",
   "execution_count": 45,
   "metadata": {},
   "outputs": [
    {
     "name": "stdout",
     "output_type": "stream",
     "text": [
      "Method & Theory in the Study of Religion\n",
      "['Religion, Cognition, and the Myth of Conscious Will', 'The Social Construction of Reality (1966) Revisited: Epistemology and Theorizing in the Study of Religion', 'Liberal Hermeneutics of the Spectacular in the Study of the New Testament and the Roman Empire']\n",
      "https://brill.com/abstract/journals/mtsr/31/2/article-p91_1.xml\n",
      "https://brill.com/abstract/journals/mtsr/31/2/article-p120_2.xml\n",
      "https://brill.com/abstract/journals/mtsr/31/2/article-p152_3.xml\n",
      "https://brill.com//cover/covers/15700682.jpg?width=300\n"
     ]
    }
   ],
   "source": [
    "import requests\n",
    "from bs4 import BeautifulSoup\n",
    "import lxml\n",
    "import re\n",
    "\n",
    "#ID = MTSR\n",
    "j_url = \"https://brill.com/abstract/journals/mtsr/31/2/mtsr.31.issue-2.xml\" \n",
    "headers = {\n",
    "    \"User-Agent\": \"Mozilla/5.0 (X11; Ubuntu; Linux x86_64; rv:47.0) Gecko/20100101 Firefox/47.0\",\n",
    "    }\n",
    "HP = requests.get(j_url, headers=headers)\n",
    "soup = BeautifulSoup(HP.text, 'lxml')\n",
    "title = soup.find(class_=\"c-Button--link c-Button--primary\").string\n",
    "print(title)\n",
    "\n",
    "#論文タイトル\n",
    "MTSR_paper_titles = soup.find_all(class_=\"c-Typography c-Typography--title c-Button--link c-Button--primary\")\n",
    "articles = []\n",
    "for MTSR_paper_title in MTSR_paper_titles:\n",
    "    if 'Advance Articles' in MTSR_paper_title.getText():\n",
    "        break\n",
    "    articles.append(MTSR_paper_title.getText().replace(\"\\n\",\"\").strip(\" \"))\n",
    "print(articles)\n",
    "    \n",
    "aa= MTSR_paper_titles\n",
    "for a in aa:\n",
    "    b = a.get('href')\n",
    "    if 'aop' not in b:\n",
    "        urls = \"https://brill.com\" + b\n",
    "        print(urls)\n",
    "\n",
    "image = soup.find_all('img')\n",
    "for iimg in image:\n",
    "    if '/cover' in iimg.get('src'):\n",
    "        img = 'https://brill.com/' +  iimg.get('src')\n",
    "        print(img)\n",
    "\n",
    "#print (url. title, articles, url)\n",
    "#<img alt=\"Cover Method &amp;amp; Theory in the Study of Religion\" class=\"\" src=\"/cover/covers/15700682.jpg?width=300\"/>]"
   ]
  },
  {
   "cell_type": "code",
   "execution_count": 80,
   "metadata": {},
   "outputs": [
    {
     "name": "stdout",
     "output_type": "stream",
     "text": [
      "Numen\n",
      "['Arresting Alternatives', 'The (Ancient Greek) Subject Supposed to Believe']\n",
      "['https://brill.com/abstract/journals/nu/66/1/article-p1_1.xml', 'https://brill.com/abstract/journals/nu/66/1/article-p56_2.xml']\n",
      "https://brill.com/cover/covers/15685276.jpg?width=300\n"
     ]
    }
   ],
   "source": [
    "import requests\n",
    "from bs4 import BeautifulSoup\n",
    "import lxml\n",
    "import re\n",
    "a_url = \"https://brill.com/abstract/journals/nu/66/1/nu.66.issue-1.xml\" \n",
    "headers = {\n",
    "    \"User-Agent\": \"Mozilla/5.0 (X11; Ubuntu; Linux x86_64; rv:47.0) Gecko/20100101 Firefox/47.0\",\n",
    "    }\n",
    "\n",
    "HP = requests.get(a_url, headers=headers)\n",
    "HP_text = HP.text.split('strong')\n",
    "soup = BeautifulSoup(HP_text[0], 'lxml')\n",
    "soup2 = BeautifulSoup(HP.text, 'lxml')\n",
    "title = soup.find(class_=\"c-Button--link c-Button--primary\").string\n",
    "print(title)\n",
    "\n",
    "#論文タイトル\n",
    "NU_paper_titles = soup.find_all(class_=\"c-Typography c-Typography--title c-Button--link c-Button--primary\")\n",
    "articles = []\n",
    "for NU_paper_title in NU_paper_titles:\n",
    "    articles.append(NU_paper_title.getText().replace(\"\\n\",\"\").strip(\" \"))\n",
    "articles.pop(-1)\n",
    "print(articles)\n",
    "\n",
    "aa = NU_paper_titles\n",
    "urls = []\n",
    "for a in aa:\n",
    "    b = a.get('href')\n",
    "    c = \"https://brill.com\" + b\n",
    "    urls.append(c)\n",
    "urls.pop(-1)\n",
    "print(urls)\n",
    "\n",
    "\"\"\"\n",
    "image = soup2.find_all('img')\n",
    "for iimg in image:\n",
    "    if '/cover' in iimg.get('src'):\n",
    "        img = 'https://brill.com' +  iimg.get('src')\n",
    "print(img)\n",
    "\"\"\"\n"
   ]
  },
  {
   "cell_type": "code",
   "execution_count": 180,
   "metadata": {},
   "outputs": [
    {
     "name": "stdout",
     "output_type": "stream",
     "text": [
      "https://brill.com/cover/covers/15685276.jpg?width=300\n",
      "https://brill.com/cover/covers/15685276.jpg?width=300\n",
      "https://brill.com/cover/covers/15685276.jpg?width=300\n",
      "https://brill.com/cover/covers/15685276.jpg?width=300\n",
      "https://brill.com/cover/covers/15685276.jpg?width=300\n",
      "https://brill.com/cover/covers/15685276.jpg?width=300\n",
      "https://brill.com/cover/covers/15685276.jpg?width=300\n",
      "https://brill.com/cover/covers/15685276.jpg?width=300\n"
     ]
    }
   ],
   "source": [
    "import requests\n",
    "from bs4 import BeautifulSoup\n",
    "import lxml\n",
    "import re\n",
    "\n",
    "ID = 'Reli'\n",
    "pub = 'Routledge'\n",
    "j_url = \"https://www.tandfonline.com/toc/rrel20/current\"\n",
    "headers = {\n",
    "    \"User-Agent\": \"Mozilla/5.0 (X11; Ubuntu; Linux x86_64; rv:47.0) Gecko/20100101 Firefox/47.0\",\n",
    "    }\n",
    "HP = requests.get(j_url, headers=headers)\n",
    "soup = BeautifulSoup(HP.text, \"html.parser\")\n",
    "\n",
    "#ジャーナルタイトル\n",
    "title = soup.find(class_=\"title\").string\n",
    "#print(title)\n",
    "\n",
    "#論文タイトル\n",
    "articles = []\n",
    "p_titles = soup.find_all(class_=\"header\")\n",
    "for p_title in p_titles:\n",
    "    aaa = p_title.getText()\n",
    "    if 'Article' in aaa:\n",
    "        Reli_titles = aaa.replace(\"Article\",'').replace(\"\\n\",\"\").strip(\" \")\n",
    "        articles.append(Reli_titles)\n",
    "#print(articles)\n",
    "\n",
    "urls = []\n",
    "for p_title in p_titles:\n",
    "    aaa = p_title.getText()\n",
    "    if 'Article' in aaa:\n",
    "        b = p_title.find('a').get('href')\n",
    "        c = 'https://www.tandfonline.com' + b\n",
    "        urls.append(c)\n",
    "#print(urls)\n",
    "\n",
    "image = soup.find_all('img')\n",
    "for iimg in image:\n",
    "    if 'publicationCoverImage' in iimg.get('src'):\n",
    "        img = 'https://www.tandfonline.com' +  iimg.get('src')\n",
    "        \n",
    "    print(img)\n",
    "        \n",
    "#print(ID, title, j_url, img, pub, articles, urls) \n",
    "\n"
   ]
  },
  {
   "cell_type": "code",
   "execution_count": 34,
   "metadata": {},
   "outputs": [
    {
     "name": "stdout",
     "output_type": "stream",
     "text": [
      "1 <a class=\"c-Typography c-Typography--title c-Button--link c-Button--primary\" href=\"/abstract/journals/nu/aop/issue.xml\">\n",
      "                            Advance Articles\n",
      "                        </a>\n",
      "2 \n",
      "3 [1, 2, 3, 4, 5]\n",
      "4 https://brill.com/abstract/journals/nu/66/1/article-p103_7.xml\n"
     ]
    }
   ],
   "source": [
    "b = [1,2,3,4,5]\n",
    "c = [a,'',b,c,d,e]\n",
    "for b,c in zip(b,c):\n",
    "    b,c"
   ]
  },
  {
   "cell_type": "code",
   "execution_count": null,
   "metadata": {},
   "outputs": [],
   "source": []
  }
 ],
 "metadata": {
  "kernelspec": {
   "display_name": "Python 3",
   "language": "python",
   "name": "python3"
  },
  "language_info": {
   "codemirror_mode": {
    "name": "ipython",
    "version": 3
   },
   "file_extension": ".py",
   "mimetype": "text/x-python",
   "name": "python",
   "nbconvert_exporter": "python",
   "pygments_lexer": "ipython3",
   "version": "3.7.3"
  }
 },
 "nbformat": 4,
 "nbformat_minor": 2
}
