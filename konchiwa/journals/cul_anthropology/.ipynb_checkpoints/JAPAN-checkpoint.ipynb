{
 "cells": [
  {
   "cell_type": "code",
   "execution_count": 6,
   "metadata": {},
   "outputs": [
    {
     "name": "stdout",
     "output_type": "stream",
     "text": [
      "CA\n",
      "['Disciplining Culture: A Sociocognitive Approach', 'Struggling to Be a “Happy Self”?: Psychotherapy and the Medicalization of Unhappiness in Uganda', 'Collective Action for War and for Peace: A Case Study among the Enga of Papua New Guinea', 'Bracketing the Nation: Lay Financial Trading in Israel']\n",
      "['https://www.journals.uchicago.edu/doi/abs/10.1086/702470', 'https://www.journals.uchicago.edu/doi/abs/10.1086/702337', 'https://www.journals.uchicago.edu/doi/abs/10.1086/702414', 'https://www.journals.uchicago.edu/doi/abs/10.1086/702407']\n"
     ]
    }
   ],
   "source": [
    "import requests\n",
    "from bs4 import BeautifulSoup\n",
    "from django.shortcuts import render\n",
    "import lxml\n",
    "\n",
    "\n",
    "ID = 'Annual Review of Anthropology'\n",
    "j_url = \"https://www.journals.uchicago.edu/toc/ca/current\" \n",
    "headers = {\n",
    "        \"User-Agent\": \"Mozilla/5.0 (X11; Ubuntu; Linux x86_64; rv:47.0) Gecko/20100101 Firefox/47.0\",\n",
    "        }\n",
    "HP = requests.get(j_url, headers=headers)\n",
    "HP_text = HP.text.split('Discussion')\n",
    "soup = BeautifulSoup(HP_text[0], \"html.parser\")\n",
    "\n",
    "#雑誌のタイトル\n",
    "publisher = soup.find_all(class_=\"menu-section\")[1].string\n",
    "title = soup.find('em').string\n",
    "print (title)\n",
    "\n",
    "#論文のタイトル\n",
    "articles = []\n",
    "papers = soup.find_all(class_=\"hlFld-Title\")\n",
    "for paper in papers[2:]:\n",
    "    paper_titles = paper.getText()\n",
    "    articles.append(paper_titles)\n",
    "print(articles)\n",
    "\n",
    "#論文のURL    \n",
    "urls = []\n",
    "aa = soup.find_all('a', class_=\"ref nowrap\")\n",
    "for a in aa[2:]:\n",
    "    b = a.get('href')\n",
    "    if \"/abs\" in b:\n",
    "        urls_list = \"https://www.journals.uchicago.edu\" + b\n",
    "        urls.append(urls_list)\n",
    "print(urls)\n",
    "\n",
    "authors = soup.find_all(class_=\"hlFld-ContribAuthor\")\n",
    "\n",
    "#表紙画像\n",
    "image = soup.find('img', alt=\"Publication Cover\")\n",
    "img_url = image.get(\"src\")\n",
    "img = \"https://www.journals.uchicago.edu\" + img_url\n",
    "\n",
    "p = soup.find_all(class_=\"menu-section\")\n",
    "pub = p[1].string\n",
    "#return (ID, title, j_url, img, pub, articles, urls,)\n"
   ]
  },
  {
   "cell_type": "code",
   "execution_count": null,
   "metadata": {},
   "outputs": [],
   "source": []
  }
 ],
 "metadata": {
  "kernelspec": {
   "display_name": "Python 3",
   "language": "python",
   "name": "python3"
  },
  "language_info": {
   "codemirror_mode": {
    "name": "ipython",
    "version": 3
   },
   "file_extension": ".py",
   "mimetype": "text/x-python",
   "name": "python",
   "nbconvert_exporter": "python",
   "pygments_lexer": "ipython3",
   "version": "3.7.3"
  }
 },
 "nbformat": 4,
 "nbformat_minor": 2
}
