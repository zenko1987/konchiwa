{
 "cells": [
  {
   "cell_type": "code",
   "execution_count": 18,
   "metadata": {},
   "outputs": [
    {
     "name": "stdout",
     "output_type": "stream",
     "text": [
      "文化人類学\n",
      "['身体をつなぐ会話', '幼子イエス像をあやす']\n",
      "['https://www.jstage.jst.go.jp/article/jjcanth/83/4/83_515/_article/-char/ja', 'https://www.jstage.jst.go.jp/article/jjcanth/83/4/83_536/_article/-char/ja']\n"
     ]
    }
   ],
   "source": [
    "import requests\n",
    "from bs4 import BeautifulSoup\n",
    "from django.shortcuts import render\n",
    "import lxml\n",
    "\n",
    "\n",
    "ID = 'Bunkajinrui'\n",
    "pub = '日本文化人類学会'\n",
    "j_url = \"https://www.jstage.jst.go.jp/browse/jjcanth/list/-char/ja\" \n",
    "headers = {\n",
    "    \"User-Agent\": \"Mozilla/5.0 (X11; Ubuntu; Linux x86_64; rv:47.0) Gecko/20100101 Firefox/47.0\",\n",
    "    }\n",
    "HP = requests.get(j_url, headers=headers)\n",
    "HP_text = (HP.text.split('特集'))\n",
    "soup = BeautifulSoup(HP_text[0], \"html.parser\")\n",
    "soup2 = BeautifulSoup(HP.text, \"html.parser\")\n",
    "\n",
    "\n",
    "#雑誌タイトル\n",
    "title = soup2.find(\"title\").string\n",
    "\n",
    "print(title)\n",
    "#論文タイトル\n",
    "aa = soup.find_all(class_=\"searchlist-title\")\n",
    "articles = []\n",
    "for a in aa[5:]:\n",
    "    articles.append(a.getText())\n",
    "print(articles)\n",
    "\n",
    "#url\n",
    "urls = []\n",
    "bb = soup.find_all(class_=\"searchlist-title\")\n",
    "for b in bb[5:]:\n",
    "    cc = b.find_all('a')\n",
    "    for c in cc:\n",
    "        d = c.get('href')\n",
    "        urls.append(d)\n",
    "print(urls)\n",
    "\n",
    "img = 'http://www.jasca.org/publication/jjca/img/jjca.81.1.gif'\n"
   ]
  },
  {
   "cell_type": "code",
   "execution_count": null,
   "metadata": {},
   "outputs": [],
   "source": []
  }
 ],
 "metadata": {
  "kernelspec": {
   "display_name": "Python 3",
   "language": "python",
   "name": "python3"
  },
  "language_info": {
   "codemirror_mode": {
    "name": "ipython",
    "version": 3
   },
   "file_extension": ".py",
   "mimetype": "text/x-python",
   "name": "python",
   "nbconvert_exporter": "python",
   "pygments_lexer": "ipython3",
   "version": "3.7.3"
  }
 },
 "nbformat": 4,
 "nbformat_minor": 2
}
