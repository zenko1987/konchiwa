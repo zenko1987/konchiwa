{
 "cells": [
  {
   "cell_type": "code",
   "execution_count": 5,
   "metadata": {},
   "outputs": [
    {
     "ename": "NameError",
     "evalue": "name 'process' is not defined",
     "output_type": "error",
     "traceback": [
      "\u001b[1;31m---------------------------------------------------------------------------\u001b[0m",
      "\u001b[1;31mNameError\u001b[0m                                 Traceback (most recent call last)",
      "\u001b[1;32m<ipython-input-5-5bd09ac47087>\u001b[0m in \u001b[0;36m<module>\u001b[1;34m\u001b[0m\n\u001b[0;32m     21\u001b[0m \u001b[1;33m\u001b[0m\u001b[0m\n\u001b[0;32m     22\u001b[0m \u001b[1;33m\u001b[0m\u001b[0m\n\u001b[1;32m---> 23\u001b[1;33m \u001b[0mprocess\u001b[0m\u001b[1;33m.\u001b[0m\u001b[0mcrawl\u001b[0m\u001b[1;33m(\u001b[0m\u001b[1;34m\"Reli_routledge\"\u001b[0m\u001b[1;33m)\u001b[0m\u001b[1;33m\u001b[0m\u001b[1;33m\u001b[0m\u001b[0m\n\u001b[0m\u001b[0;32m     24\u001b[0m \u001b[0mprocess\u001b[0m\u001b[1;33m.\u001b[0m\u001b[0mstart\u001b[0m\u001b[1;33m(\u001b[0m\u001b[1;33m)\u001b[0m\u001b[1;33m\u001b[0m\u001b[1;33m\u001b[0m\u001b[0m\n",
      "\u001b[1;31mNameError\u001b[0m: name 'process' is not defined"
     ]
    }
   ],
   "source": [
    "import scrapy\n",
    "from scrapy.crawler import CrawlerProcess\n",
    "from scrapy.spider import Spider\n",
    "from scrapy.utils.project import get_project_settings\n",
    "from scrapy.selector import HtmlXPathSelector\n",
    "\n",
    "class Reli_routledgeSpider(scrapy.Spider):\n",
    "    name = 'Reli_routledge'\n",
    "    allowed_domains = ['https://www.tandfonline.com/']\n",
    "    start_urls = ('https://www.tandfonline.com/toc/rrel20/current')\n",
    "  \n",
    "    def parse(self, response):\n",
    "        sel = Selector\n",
    "        sites = sel.xpath('//body')\n",
    "        \n",
    "        for site in sites:\n",
    "            site[journal] = sel.xpath('//span[@class=\"title\"]/text()').extract()\n",
    "            site[publisher] = sel.xpath('//*[@id=\"e817489e-2520-418b-a731-b62e247e74df\"]/div/div/a/text()').extract()\n",
    "            site[article] = sel.xpath('//div[@class=\"header\"]').extract()\n",
    "            yield site\n",
    "\n",
    "process = CrawlerProcess(get_project_settings())\n",
    "process.crawl(\"Reli_routledge\")\n",
    "process.start()\n"
   ]
  },
  {
   "cell_type": "code",
   "execution_count": 4,
   "metadata": {},
   "outputs": [
    {
     "ename": "IndentationError",
     "evalue": "unexpected indent (<ipython-input-4-2a83821220e0>, line 2)",
     "output_type": "error",
     "traceback": [
      "\u001b[1;36m  File \u001b[1;32m\"<ipython-input-4-2a83821220e0>\"\u001b[1;36m, line \u001b[1;32m2\u001b[0m\n\u001b[1;33m    from scraper.items import TheodoTeamItem\u001b[0m\n\u001b[1;37m    ^\u001b[0m\n\u001b[1;31mIndentationError\u001b[0m\u001b[1;31m:\u001b[0m unexpected indent\n"
     ]
    }
   ],
   "source": [
    "import scrapy\n",
    "    from scraper.items import TheodoTeamItem\n",
    "\n",
    "    class TheodoSpider(scrapy.Spider):\n",
    "      name = \"theodo\"\n",
    "      start_urls = [\"https://www.theodo.co.uk/team\"]\n",
    "\n",
    "      # this is what start_urls does\n",
    "      # def start_requests(self):\n",
    "      #     urls = ['https://www.theodo.co.uk/team',]\n",
    "      #     for url in urls:\n",
    "      #       yield scrapy.Request(url=url, callback=self.parse)\n",
    "\n",
    "      def parse(self, response):\n",
    "          data = response.css(\"div.st-about-employee-pop-up\")\n",
    "\n",
    "          for line in data:\n",
    "              item = TheodoTeamItem()\n",
    "              item[\"name\"] = line.css(\"div.h3 h3::text\").extract_first()\n",
    "              item[\"image\"] = line.css(\"img.img-team-popup::attr(src)\").extract_first()\n",
    "              item[\"fun_fact\"] = line.css(\"div.p-small p::text\").extract().pop()\n",
    "              yield item\n",
    "\n",
    "\n"
   ]
  },
  {
   "cell_type": "code",
   "execution_count": null,
   "metadata": {},
   "outputs": [],
   "source": []
  },
  {
   "cell_type": "code",
   "execution_count": null,
   "metadata": {},
   "outputs": [],
   "source": []
  },
  {
   "cell_type": "code",
   "execution_count": null,
   "metadata": {},
   "outputs": [],
   "source": []
  },
  {
   "cell_type": "code",
   "execution_count": null,
   "metadata": {},
   "outputs": [],
   "source": []
  }
 ],
 "metadata": {
  "kernelspec": {
   "display_name": "Python 3",
   "language": "python",
   "name": "python3"
  },
  "language_info": {
   "codemirror_mode": {
    "name": "ipython",
    "version": 3
   },
   "file_extension": ".py",
   "mimetype": "text/x-python",
   "name": "python",
   "nbconvert_exporter": "python",
   "pygments_lexer": "ipython3",
   "version": "3.7.3"
  }
 },
 "nbformat": 4,
 "nbformat_minor": 2
}
